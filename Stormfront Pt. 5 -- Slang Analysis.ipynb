{
 "cells": [
  {
   "cell_type": "code",
   "execution_count": 7,
   "metadata": {
    "collapsed": false
   },
   "outputs": [],
   "source": [
    "import pandas as pd\n",
    "\n",
    "df_posts = pd.read_sql_query(\n",
    "    '''\n",
    "SELECT sp.content, p.author, p.author_title, p.author_location, p.post_date\n",
    " FROM subposts sp LEFT JOIN posts p ON sp.post_id=p.post_id\n",
    " ''',\n",
    "    'sqlite:////home/sam/data/stormfront/stormfront.sqlite'\n",
    ")"
   ]
  },
  {
   "cell_type": "code",
   "execution_count": 45,
   "metadata": {
    "collapsed": false
   },
   "outputs": [],
   "source": [
    "import spacy\n",
    "\n",
    "nlp = spacy.load('en')"
   ]
  },
  {
   "cell_type": "code",
   "execution_count": 82,
   "metadata": {
    "collapsed": false
   },
   "outputs": [
    {
     "name": "stdout",
     "output_type": "stream",
     "text": [
      "......................................................................................................."
     ]
    }
   ],
   "source": [
    "import sys\n",
    "\n",
    "IGNORED_ENTITY_TYPES = {\"DATE\", \"TIME\", \"PERCENT\", \"MONEY\", \"QUANTITY\", \"ORDINAL\", \"CARDINAL\"}\n",
    "entities = []\n",
    "for i, post in enumerate(df_posts.content.fillna('')):\n",
    "    if i % 10000 == 0:\n",
    "        print('.', end='')\n",
    "        sys.stdout.flush()\n",
    "\n",
    "    doc = nlp(post)\n",
    "    for ent in doc.ents:\n",
    "        if ent.label_ in IGNORED_ENTITY_TYPES:\n",
    "            continue\n",
    "            \n",
    "        entities.append((i, ent.text.upper(), ent.label_))\n",
    "    \n",
    "    del doc"
   ]
  },
  {
   "cell_type": "code",
   "execution_count": 86,
   "metadata": {
    "collapsed": true
   },
   "outputs": [],
   "source": [
    "df_entities = pd.DataFrame(entities, columns=['post_index', 'entity', 'label'])"
   ]
  },
  {
   "cell_type": "code",
   "execution_count": 102,
   "metadata": {
    "collapsed": false
   },
   "outputs": [
    {
     "data": {
      "text/html": [
       "<div>\n",
       "<table border=\"1\" class=\"dataframe\">\n",
       "  <thead>\n",
       "    <tr style=\"text-align: right;\">\n",
       "      <th></th>\n",
       "      <th>content</th>\n",
       "      <th>author</th>\n",
       "      <th>author_title</th>\n",
       "      <th>author_location</th>\n",
       "      <th>post_date</th>\n",
       "    </tr>\n",
       "  </thead>\n",
       "  <tbody>\n",
       "    <tr>\n",
       "      <th>0</th>\n",
       "      <td>\\nhttp://www.reuters.com/article/oddly...2&amp;pag...</td>\n",
       "      <td>salvete amici</td>\n",
       "      <td>Forum Member</td>\n",
       "      <td>Christian, Free-market Libertarian</td>\n",
       "      <td>2007-05-24 15:19:00.000000</td>\n",
       "    </tr>\n",
       "    <tr>\n",
       "      <th>1</th>\n",
       "      <td>I suppose they wouldn't go down well with a d...</td>\n",
       "      <td>Royal Blue</td>\n",
       "      <td>Forum Member</td>\n",
       "      <td>None</td>\n",
       "      <td>2007-05-24 15:27:00.000000</td>\n",
       "    </tr>\n",
       "    <tr>\n",
       "      <th>2</th>\n",
       "      <td>The blacks or the rats?   confused.gif \\n</td>\n",
       "      <td>ArcticThunder</td>\n",
       "      <td>Account Inactive</td>\n",
       "      <td>U.S.A.</td>\n",
       "      <td>2007-05-24 15:52:00.000000</td>\n",
       "    </tr>\n",
       "    <tr>\n",
       "      <th>3</th>\n",
       "      <td>OMG I'll have nightmares for weeks now...YUCK...</td>\n",
       "      <td>BeautynBrains1488</td>\n",
       "      <td>Forum Member</td>\n",
       "      <td>Texico Amexica Where Wetbacks Rule</td>\n",
       "      <td>2007-05-24 16:13:00.000000</td>\n",
       "    </tr>\n",
       "    <tr>\n",
       "      <th>4</th>\n",
       "      <td>\\r\\n\\t\\t\\t\\r\\n\\t\\t\\tAre you talking about actu...</td>\n",
       "      <td>LOKI-Nevada</td>\n",
       "      <td>Account Disabled by Request</td>\n",
       "      <td>Fled to Utah</td>\n",
       "      <td>2007-05-24 16:16:00.000000</td>\n",
       "    </tr>\n",
       "  </tbody>\n",
       "</table>\n",
       "</div>"
      ],
      "text/plain": [
       "                                             content             author  \\\n",
       "0  \\nhttp://www.reuters.com/article/oddly...2&pag...      salvete amici   \n",
       "1   I suppose they wouldn't go down well with a d...         Royal Blue   \n",
       "2          The blacks or the rats?   confused.gif \\n      ArcticThunder   \n",
       "3   OMG I'll have nightmares for weeks now...YUCK...  BeautynBrains1488   \n",
       "4  \\r\\n\\t\\t\\t\\r\\n\\t\\t\\tAre you talking about actu...        LOKI-Nevada   \n",
       "\n",
       "                  author_title                     author_location  \\\n",
       "0                 Forum Member  Christian, Free-market Libertarian   \n",
       "1                 Forum Member                                None   \n",
       "2             Account Inactive                              U.S.A.   \n",
       "3                 Forum Member  Texico Amexica Where Wetbacks Rule   \n",
       "4  Account Disabled by Request                        Fled to Utah   \n",
       "\n",
       "                    post_date  \n",
       "0  2007-05-24 15:19:00.000000  \n",
       "1  2007-05-24 15:27:00.000000  \n",
       "2  2007-05-24 15:52:00.000000  \n",
       "3  2007-05-24 16:13:00.000000  \n",
       "4  2007-05-24 16:16:00.000000  "
      ]
     },
     "execution_count": 102,
     "metadata": {},
     "output_type": "execute_result"
    }
   ],
   "source": [
    "df_posts.head()"
   ]
  },
  {
   "cell_type": "code",
   "execution_count": 105,
   "metadata": {
    "collapsed": false
   },
   "outputs": [],
   "source": [
    "df_entities_with_dates = pd.merge(df_entities, df_posts[['post_date']], left_on='post_index', right_index=True, copy=False)"
   ]
  },
  {
   "cell_type": "code",
   "execution_count": 107,
   "metadata": {
    "collapsed": false
   },
   "outputs": [],
   "source": [
    "df_entities_with_dates.sort_values('post_date', inplace=True)"
   ]
  },
  {
   "cell_type": "code",
   "execution_count": 189,
   "metadata": {
    "collapsed": false
   },
   "outputs": [
    {
     "data": {
      "text/plain": [
       "JEWS                          62495\n",
       "JEWISH                        45082\n",
       "AMERICAN                      28952\n",
       "AMERICANS                     17628\n",
       "EUROPEAN                      14043\n",
       "MUSLIMS                       12944\n",
       "GERMAN                        10814\n",
       "MUSLIM                        10653\n",
       "WHITE                         10651\n",
       "ISRAELI                       10102\n",
       "RUSSIAN                        9708\n",
       "JEW                            8889\n",
       "BRITISH                        8279\n",
       "CHRISTIAN                      7424\n",
       "AFRICAN                        6835\n",
       "CHINESE                        6749\n",
       "ZIONIST                        5939\n",
       "MEXICAN                        5781\n",
       "REPUBLICAN                     5676\n",
       "FRENCH                         5495\n",
       "GERMANS                        5366\n",
       "MEXICANS                       5348\n",
       "CHRISTIANS                     5315\n",
       "EUROPEANS                      5247\n",
       "RUSSIANS                       4498\n",
       "ASIAN                          4430\n",
       "DEMOCRATS                      4076\n",
       "REPUBLICANS                    3849\n",
       "ARABS                          3720\n",
       "IRISH                          3691\n",
       "                              ...  \n",
       "MOGADISHU                         1\n",
       "ILONZEH                           1\n",
       "ASIAN/FILLIPINO                   1\n",
       "FIREMANS                          1\n",
       "SOLDER                            1\n",
       "20-FOOT                           1\n",
       "CORPORATIST                       1\n",
       "MELBOURNIAN                       1\n",
       "ROXBURY                           1\n",
       "SERBO-CROATIAN                    1\n",
       "QURISH                            1\n",
       "AMNESTIED                         1\n",
       "HOLOHOAXER                        1\n",
       "DEFINITELY                        1\n",
       "CATHOLIC LITHUANIANS              1\n",
       "BRENDON                           1\n",
       "ARMENOIDS                         1\n",
       "ANDROGYNOUS AFRICAN               1\n",
       "JOHANNISBAD                       1\n",
       "HIGHLY                            1\n",
       "EDGEMOOR                          1\n",
       "ESCAPED                           1\n",
       "PORT                              1\n",
       "WHITES AND CHRISTIANS             1\n",
       "WEST TRINITY                      1\n",
       "PROVENCAL                         1\n",
       "HALGERMAN                         1\n",
       "\\r\\n\\t\\t\\t\\r\\n\\t\\t\\tKOREAN        1\n",
       "RIGHTWING                         1\n",
       "BLUEBOTTLE                        1\n",
       "Name: entity, dtype: int64"
      ]
     },
     "execution_count": 189,
     "metadata": {},
     "output_type": "execute_result"
    }
   ],
   "source": [
    "df_entities[df_entities.label == 'NORP'].entity.value_counts()"
   ]
  },
  {
   "cell_type": "code",
   "execution_count": 146,
   "metadata": {
    "collapsed": true
   },
   "outputs": [],
   "source": [
    "posts_by_year = df_posts.groupby(by=pd.DatetimeIndex(df_posts.post_date).year).content.count()"
   ]
  },
  {
   "cell_type": "code",
   "execution_count": 186,
   "metadata": {
    "collapsed": false
   },
   "outputs": [
    {
     "data": {
      "image/png": "[encoded data removed]",
      "text/plain": [
       "<matplotlib.figure.Figure at 0x7fd925d81cf8>"
      ]
     },
     "metadata": {},
     "output_type": "display_data"
    }
   ],
   "source": [
    "%matplotlib inline\n",
    "import matplotlib.pyplot as plt\n",
    "import seaborn as sns\n",
    "\n",
    "fig = plt.figure(figsize=(12, 8))\n",
    "\n",
    "def entity_mentions_by_year(df, entity, normalized=True):\n",
    "    filtered = df[df.entity == entity]\n",
    "    date_index = pd.DatetimeIndex(filtered.post_date)\n",
    "    \n",
    "    counts = filtered.groupby(by=[date_index.year]).entity.count()\n",
    "    if normalized:\n",
    "        counts /= posts_by_year\n",
    "    \n",
    "    return counts\n",
    "\n",
    "def plot_entity_mentions_by_year(df, entity):\n",
    "    df = entity_mentions_by_year(df, entity)\n",
    "    if len(df[4:]) == 0:\n",
    "        return\n",
    "    \n",
    "    df[4:].plot(label=entity)\n",
    "    fig.autofmt_xdate()\n",
    "    plt.legend()\n",
    "    plt.suptitle('Mentions of entities by year')\n",
    "\n",
    "\n",
    "plot_entity_mentions_by_year(df_entities_with_dates, 'FLORIDA')\n",
    "plot_entity_mentions_by_year(df_entities_with_dates, 'CALIFORNIA')\n",
    "plot_entity_mentions_by_year(df_entities_with_dates, 'NEW YORK')"
   ]
  },
  {
   "cell_type": "code",
   "execution_count": 132,
   "metadata": {
    "collapsed": false
   },
   "outputs": [
    {
     "data": {
      "text/plain": [
       "CALIFORNIA              7359.0\n",
       "TEXAS                   5779.0\n",
       "WASHINGTON              4831.0\n",
       "FLORIDA                 4680.0\n",
       "NEW YORK                4414.0\n",
       "GEORGIA                 3222.0\n",
       "ARIZONA                 3003.0\n",
       "IOWA                    2007.0\n",
       "OHIO                    1749.0\n",
       "MONTANA                 1647.0\n",
       "MICHIGAN                1597.0\n",
       "OREGON                  1262.0\n",
       "VIRGINIA                1218.0\n",
       "LOUISIANA               1180.0\n",
       "SOUTH CAROLINA          1172.0\n",
       "COLORADO                1102.0\n",
       "NEW JERSEY              1084.0\n",
       "ILLINOIS                1058.0\n",
       "PENNSYLVANIA            1040.0\n",
       "MISSOURI                1022.0\n",
       "NEW HAMPSHIRE           1003.0\n",
       "ALABAMA                  998.0\n",
       "MINNESOTA                995.0\n",
       "HAWAII                   902.0\n",
       "MISSISSIPPI              900.0\n",
       "TENNESSEE                896.0\n",
       "UTAH                     855.0\n",
       "WISCONSIN                846.0\n",
       "INDIANA                  829.0\n",
       "NEVADA                   795.0\n",
       "ALASKA                   788.0\n",
       "NORTH CAROLINA           785.0\n",
       "IDAHO                    776.0\n",
       "MASSACHUSETTS            752.0\n",
       "ARKANSAS                 740.0\n",
       "OKLAHOMA                 733.0\n",
       "KENTUCKY                 722.0\n",
       "MAINE                    699.0\n",
       "NORTH DAKOTA             698.0\n",
       "MARYLAND                 625.0\n",
       "CONNECTICUT              612.0\n",
       "KANSAS                   476.0\n",
       "NEW MEXICO               386.0\n",
       "NEBRASKA                 361.0\n",
       "VERMONT                  360.0\n",
       "WEST VIRGINIA            359.0\n",
       "WYOMING                  351.0\n",
       "DELAWARE                 235.0\n",
       "RHODE ISLAND             203.0\n",
       "SOUTH DAKOTA             182.0\n",
       "DISTRICT OF COLUMBIA       NaN\n",
       "Name: entity, dtype: float64"
      ]
     },
     "execution_count": 132,
     "metadata": {},
     "output_type": "execute_result"
    }
   ],
   "source": [
    "df_entities.entity.value_counts()[states].sort_values(ascending=False)"
   ]
  },
  {
   "cell_type": "code",
   "execution_count": 156,
   "metadata": {
    "collapsed": true
   },
   "outputs": [],
   "source": [
    "state_mentions_by_year = {}\n",
    "for state in states:\n",
    "    state_mentions_by_year[state] = entity_mentions_by_year(df_entities_with_dates, state)"
   ]
  },
  {
   "cell_type": "code",
   "execution_count": 157,
   "metadata": {
    "collapsed": true
   },
   "outputs": [],
   "source": [
    "df_state_mentions_by_year = pd.DataFrame(state_mentions_by_year).fillna(0)"
   ]
  },
  {
   "cell_type": "code",
   "execution_count": 158,
   "metadata": {
    "collapsed": false
   },
   "outputs": [
    {
     "data": {
      "text/plain": [
       "<matplotlib.axes._subplots.AxesSubplot at 0x7fd9313b4ef0>"
      ]
     },
     "execution_count": 158,
     "metadata": {},
     "output_type": "execute_result"
    },
    {
     "data": {
      "image/png": "[encoded data removed]",
      "text/plain": [
       "<matplotlib.figure.Figure at 0x7fd9313d4eb8>"
      ]
     },
     "metadata": {},
     "output_type": "display_data"
    }
   ],
   "source": [
    "figure = plt.figure(figsize=(16, 16))\n",
    "sns.heatmap(df_state_mentions_by_year.corr())"
   ]
  },
  {
   "cell_type": "code",
   "execution_count": 90,
   "metadata": {
    "collapsed": false
   },
   "outputs": [
    {
     "data": {
      "text/plain": [
       "ISRAEL                   37073\n",
       "AMERICA                  35176\n",
       "US                       27947\n",
       "RUSSIA                   17943\n",
       "U.S.                     15638\n",
       "GERMANY                  13205\n",
       "IRAN                     12785\n",
       "OBAMA                    10027\n",
       "THE UNITED STATES         9169\n",
       "CHINA                     8739\n",
       "CALIFORNIA                7355\n",
       "USA                       7214\n",
       "IRAQ                      6728\n",
       "FRANCE                    6425\n",
       "BRITAIN                   6347\n",
       "TEXAS                     5773\n",
       "MEXICO                    5610\n",
       "UK                        5520\n",
       "CANADA                    4945\n",
       "WASHINGTON                4795\n",
       "FLORIDA                   4678\n",
       "NEW YORK                  4396\n",
       "DETROIT                   4376\n",
       "ENGLAND                   4180\n",
       "GREECE                    4164\n",
       "HITLER                    4063\n",
       "SOUTH AFRICA              3965\n",
       "SWEDEN                    3900\n",
       "HOLLYWOOD                 3813\n",
       "JAPAN                     3808\n",
       "                         ...  \n",
       "WATTS COUNTY                 1\n",
       "KYENGE                       1\n",
       "HATEWATCH                    1\n",
       "CECHNYA                      1\n",
       "UEFA/FIFA                    1\n",
       "THATS A                      1\n",
       "LA-LA                        1\n",
       "ODUMMY                       1\n",
       "SHABBATHAI                  1\n",
       "IOF                          1\n",
       "PHILLEDELPHIA                1\n",
       "TOIRDHEALBHACH               1\n",
       "MAIWAND                      1\n",
       "VENCKIENE                    1\n",
       "TX. \\n \\n HERO               1\n",
       "BRITIANY                     1\n",
       "PHILLY..SO                   1\n",
       "WEST POINT'S                 1\n",
       "COUNTY ARMAGH                1\n",
       "KECES                        1\n",
       "POLYGAMY CULT                1\n",
       "\\nCITY OF SANTA CLARA        1\n",
       "KILLDEER                     1\n",
       "HURRICANE                    1\n",
       "NEWPORT CIGARETTES           1\n",
       "LAVORICE                     1\n",
       "HAM                          1\n",
       "WEINBAUM                     1\n",
       "MUDDS                        1\n",
       "GERMAN AIRBUS                1\n",
       "Name: entity, dtype: int64"
      ]
     },
     "execution_count": 90,
     "metadata": {},
     "output_type": "execute_result"
    }
   ],
   "source": [
    "df_entities[df_entities.label == 'GPE'].entity.value_counts()"
   ]
  },
  {
   "cell_type": "code",
   "execution_count": 88,
   "metadata": {
    "collapsed": false
   },
   "outputs": [
    {
     "data": {
      "text/plain": [
       "PERSON         665854\n",
       "GPE            622591\n",
       "NORP           559154\n",
       "ORG            498417\n",
       "LOC             71340\n",
       "WORK_OF_ART     28088\n",
       "EVENT           15903\n",
       "FAC             15615\n",
       "PRODUCT         13277\n",
       "LANGUAGE         8794\n",
       "LAW              6676\n",
       "Name: label, dtype: int64"
      ]
     },
     "execution_count": 88,
     "metadata": {},
     "output_type": "execute_result"
    }
   ],
   "source": [
    "df_entities.label.value_counts()"
   ]
  },
  {
   "cell_type": "markdown",
   "metadata": {},
   "source": [
    "# Links"
   ]
  },
  {
   "cell_type": "code",
   "execution_count": null,
   "metadata": {
    "collapsed": true
   },
   "outputs": [],
   "source": [
    "df_links = pd.read_sql_query('')"
   ]
  },
  {
   "cell_type": "markdown",
   "metadata": {},
   "source": [
    "# Slurs database?\n",
    "\n",
    "Spoiler alert: it didn't work that well :("
   ]
  },
  {
   "cell_type": "code",
   "execution_count": 2,
   "metadata": {
    "collapsed": false
   },
   "outputs": [],
   "source": [
    "slurs = pd.read_csv('/home/sam/data/far-right/slurs.csv', encoding='iso-8859-7')[['Slur', 'Race', 'Alt-Right']]"
   ]
  },
  {
   "cell_type": "code",
   "execution_count": 3,
   "metadata": {
    "collapsed": false
   },
   "outputs": [
    {
     "name": "stdout",
     "output_type": "stream",
     "text": [
      "Size:  1032\n"
     ]
    }
   ],
   "source": [
    "slurs_to_races = {}\n",
    "\n",
    "for i, row in slurs.iterrows():\n",
    "    slur = row['Slur'].lower()\n",
    "    race = row['Race']\n",
    "    slurs_to_races[slur] = race\n",
    "    if slur.replace('-', '') != slur:\n",
    "        slurs_to_races[slur.replace('-', '')] = race\n",
    "    if slur.replace('-', ' ') != slur:\n",
    "        slurs_to_races[slur.replace('-', ' ')] = race\n",
    "    if slur.replace('.', '') != slur:\n",
    "        slurs_to_races[slur.replace('.', '')] = race\n",
    "\n",
    "print(\"Size: \", len(slurs_to_races))"
   ]
  },
  {
   "cell_type": "code",
   "execution_count": 4,
   "metadata": {
    "collapsed": false
   },
   "outputs": [
    {
     "name": "stdout",
     "output_type": "stream",
     "text": [
      "(1026458, 5)\n"
     ]
    },
    {
     "data": {
      "text/html": [
       "<div>\n",
       "<table border=\"1\" class=\"dataframe\">\n",
       "  <thead>\n",
       "    <tr style=\"text-align: right;\">\n",
       "      <th></th>\n",
       "      <th>content</th>\n",
       "      <th>author</th>\n",
       "      <th>author_title</th>\n",
       "      <th>author_location</th>\n",
       "      <th>post_date</th>\n",
       "    </tr>\n",
       "  </thead>\n",
       "  <tbody>\n",
       "    <tr>\n",
       "      <th>0</th>\n",
       "      <td>\\nhttp://www.reuters.com/article/oddly...2&amp;pag...</td>\n",
       "      <td>salvete amici</td>\n",
       "      <td>Forum Member</td>\n",
       "      <td>Christian, Free-market Libertarian</td>\n",
       "      <td>2007-05-24 15:19:00.000000</td>\n",
       "    </tr>\n",
       "    <tr>\n",
       "      <th>1</th>\n",
       "      <td>I suppose they wouldn't go down well with a d...</td>\n",
       "      <td>Royal Blue</td>\n",
       "      <td>Forum Member</td>\n",
       "      <td>None</td>\n",
       "      <td>2007-05-24 15:27:00.000000</td>\n",
       "    </tr>\n",
       "    <tr>\n",
       "      <th>2</th>\n",
       "      <td>The blacks or the rats?   confused.gif \\n</td>\n",
       "      <td>ArcticThunder</td>\n",
       "      <td>Account Inactive</td>\n",
       "      <td>U.S.A.</td>\n",
       "      <td>2007-05-24 15:52:00.000000</td>\n",
       "    </tr>\n",
       "  </tbody>\n",
       "</table>\n",
       "</div>"
      ],
      "text/plain": [
       "                                             content         author  \\\n",
       "0  \\nhttp://www.reuters.com/article/oddly...2&pag...  salvete amici   \n",
       "1   I suppose they wouldn't go down well with a d...     Royal Blue   \n",
       "2          The blacks or the rats?   confused.gif \\n  ArcticThunder   \n",
       "\n",
       "       author_title                     author_location  \\\n",
       "0      Forum Member  Christian, Free-market Libertarian   \n",
       "1      Forum Member                                None   \n",
       "2  Account Inactive                              U.S.A.   \n",
       "\n",
       "                    post_date  \n",
       "0  2007-05-24 15:19:00.000000  \n",
       "1  2007-05-24 15:27:00.000000  \n",
       "2  2007-05-24 15:52:00.000000  "
      ]
     },
     "execution_count": 4,
     "metadata": {},
     "output_type": "execute_result"
    }
   ],
   "source": [
    "print(df_posts.shape)\n",
    "\n",
    "df_posts.head(n=3)"
   ]
  },
  {
   "cell_type": "code",
   "execution_count": 5,
   "metadata": {
    "collapsed": false
   },
   "outputs": [
    {
     "data": {
      "text/plain": [
       "['hello-world', 'there', '.']"
      ]
     },
     "execution_count": 5,
     "metadata": {},
     "output_type": "execute_result"
    }
   ],
   "source": [
    "from nltk import word_tokenize\n",
    "\n",
    "word_tokenize('hello-world there.')"
   ]
  },
  {
   "cell_type": "code",
   "execution_count": 6,
   "metadata": {
    "collapsed": false
   },
   "outputs": [],
   "source": [
    "df_posts.dropna(subset=['content'], inplace=True)"
   ]
  },
  {
   "cell_type": "code",
   "execution_count": 7,
   "metadata": {
    "collapsed": false
   },
   "outputs": [],
   "source": [
    "tokenized_words = df_posts.content.str.lower().apply(word_tokenize)"
   ]
  },
  {
   "cell_type": "code",
   "execution_count": 8,
   "metadata": {
    "collapsed": true
   },
   "outputs": [],
   "source": [
    "single_token_slurs = [x for x in slurs_to_races if ' ' not in x]\n",
    "multi_token_slurs = [x for x in slurs_to_races if ' ' in x]\n",
    "\n",
    "slurs_that_appear = []\n",
    "for subpost in tokenized_words:\n",
    "    subpost_slurs = []\n",
    "    for slur in single_token_slurs:\n",
    "        if slur in subpost:\n",
    "            subpost_slurs.append(slur)\n",
    "    \n",
    "    slurs_that_appear.append(subpost_slurs)"
   ]
  },
  {
   "cell_type": "code",
   "execution_count": null,
   "metadata": {
    "collapsed": true
   },
   "outputs": [],
   "source": [
    "multitoken_slurs_that_appear = []\n",
    "for post in df_posts.content.str.lower():\n",
    "    subpost_slurs = []\n",
    "    for slur in multi_token_slurs:\n",
    "        if slur in post:\n",
    "            subpost_slurs.append(slur)\n",
    "            \n",
    "    multitoken_slurs_that_appear.append(subpost_slurs)"
   ]
  },
  {
   "cell_type": "code",
   "execution_count": 26,
   "metadata": {
    "collapsed": false
   },
   "outputs": [],
   "source": [
    "from functools import reduce\n",
    "\n",
    "all_post_slurs = [x + y for x, y in zip(slurs_that_appear, multitoken_slurs_that_appear)]"
   ]
  },
  {
   "cell_type": "code",
   "execution_count": 27,
   "metadata": {
    "collapsed": false
   },
   "outputs": [
    {
     "data": {
      "text/plain": [
       "(1014629, 1014629, 1014629)"
      ]
     },
     "execution_count": 27,
     "metadata": {},
     "output_type": "execute_result"
    }
   ],
   "source": [
    "len(slurs_that_appear), len(multitoken_slurs_that_appear), len(all_post_slurs)"
   ]
  },
  {
   "cell_type": "code",
   "execution_count": 28,
   "metadata": {
    "collapsed": false
   },
   "outputs": [
    {
     "data": {
      "text/plain": [
       "132274"
      ]
     },
     "execution_count": 28,
     "metadata": {},
     "output_type": "execute_result"
    }
   ],
   "source": [
    "sum([len(x) != 0 for x in all_post_slurs])"
   ]
  },
  {
   "cell_type": "code",
   "execution_count": 29,
   "metadata": {
    "collapsed": true
   },
   "outputs": [],
   "source": [
    "all_post_slur_races = []\n",
    "for post_slurs in all_post_slurs:\n",
    "    post_slur_races = []\n",
    "    for slur in post_slurs:\n",
    "        post_slur_races.append(slurs_to_races[slur])\n",
    "    \n",
    "    all_post_slur_races.append(post_slur_races)"
   ]
  },
  {
   "cell_type": "code",
   "execution_count": 32,
   "metadata": {
    "collapsed": true
   },
   "outputs": [],
   "source": [
    "df_posts['slurs'] = all_post_slurs\n",
    "df_posts['slur_races'] = all_post_slur_races"
   ]
  },
  {
   "cell_type": "code",
   "execution_count": 39,
   "metadata": {
    "collapsed": false
   },
   "outputs": [
    {
     "data": {
      "text/html": [
       "<div>\n",
       "<table border=\"1\" class=\"dataframe\">\n",
       "  <thead>\n",
       "    <tr style=\"text-align: right;\">\n",
       "      <th></th>\n",
       "      <th>content</th>\n",
       "      <th>author</th>\n",
       "      <th>author_title</th>\n",
       "      <th>author_location</th>\n",
       "      <th>post_date</th>\n",
       "      <th>slurs</th>\n",
       "      <th>slur_races</th>\n",
       "    </tr>\n",
       "  </thead>\n",
       "  <tbody>\n",
       "    <tr>\n",
       "      <th>6</th>\n",
       "      <td>\\r\\n\\t\\t\\t\\r\\n\\t\\t\\tLouisiana has a problem wi...</td>\n",
       "      <td>mrjowee</td>\n",
       "      <td>Forum Member</td>\n",
       "      <td>None</td>\n",
       "      <td>2007-05-24 16:41:00.000000</td>\n",
       "      <td>[target]</td>\n",
       "      <td>[Indians]</td>\n",
       "    </tr>\n",
       "    <tr>\n",
       "      <th>10</th>\n",
       "      <td>\\r\\n\\t\\t\\t\\r\\n\\t\\t\\t------------ --------- ---...</td>\n",
       "      <td>Bunnytoes</td>\n",
       "      <td>Open Forums - moderated</td>\n",
       "      <td>Texas</td>\n",
       "      <td>2008-11-18 13:14:00.000000</td>\n",
       "      <td>[crime]</td>\n",
       "      <td>[Blacks]</td>\n",
       "    </tr>\n",
       "    <tr>\n",
       "      <th>13</th>\n",
       "      <td>\\r\\n\\t\\t\\t\\r\\n\\t\\t\\tGood post, and a very inte...</td>\n",
       "      <td>O.W.N.</td>\n",
       "      <td>Forum Member</td>\n",
       "      <td>Cyberia</td>\n",
       "      <td>2008-11-18 14:11:00.000000</td>\n",
       "      <td>[interesting]</td>\n",
       "      <td>[Jews]</td>\n",
       "    </tr>\n",
       "    <tr>\n",
       "      <th>19</th>\n",
       "      <td>\\r\\n\\t\\t\\t\\r\\n\\t\\t\\tVery interesting predictio...</td>\n",
       "      <td>Daglaff Wolfing</td>\n",
       "      <td>Forum Member</td>\n",
       "      <td>Communist Republic of Maryland</td>\n",
       "      <td>2008-11-18 16:52:00.000000</td>\n",
       "      <td>[interesting]</td>\n",
       "      <td>[Jews]</td>\n",
       "    </tr>\n",
       "    <tr>\n",
       "      <th>20</th>\n",
       "      <td>\\nAccording to the World’s No. 1 Credit Strate...</td>\n",
       "      <td>reynoldsg</td>\n",
       "      <td>\"Friend of Stormfront\"Sustaining Member</td>\n",
       "      <td>None</td>\n",
       "      <td>2016-09-10 16:51:00.000000</td>\n",
       "      <td>[bubble]</td>\n",
       "      <td>[Greeks]</td>\n",
       "    </tr>\n",
       "    <tr>\n",
       "      <th>32</th>\n",
       "      <td>\\r\\n\\t\\t\\t\\r\\n\\t\\t\\tI'm not a queer but he's u...</td>\n",
       "      <td>RobboPOSH</td>\n",
       "      <td>Forum Member</td>\n",
       "      <td>None</td>\n",
       "      <td>2016-11-15 18:08:00.000000</td>\n",
       "      <td>[interesting]</td>\n",
       "      <td>[Jews]</td>\n",
       "    </tr>\n",
       "    <tr>\n",
       "      <th>41</th>\n",
       "      <td>\\r\\n\\t\\t\\t\\r\\n\\t\\t\\tTalk about safe spaces, th...</td>\n",
       "      <td>Simon Legree</td>\n",
       "      <td>\"Friend of Stormfront\"Sustaining Member</td>\n",
       "      <td>Yankee Land</td>\n",
       "      <td>2016-12-09 08:20:00.000000</td>\n",
       "      <td>[safe]</td>\n",
       "      <td>[Blacks]</td>\n",
       "    </tr>\n",
       "    <tr>\n",
       "      <th>44</th>\n",
       "      <td>I had a lot of graffiti written about me in h...</td>\n",
       "      <td>ErikTheWhite</td>\n",
       "      <td>\"Friend of Stormfront\"Sustaining Member</td>\n",
       "      <td>Deep South United States</td>\n",
       "      <td>2016-12-09 21:24:00.000000</td>\n",
       "      <td>[safe]</td>\n",
       "      <td>[Blacks]</td>\n",
       "    </tr>\n",
       "    <tr>\n",
       "      <th>51</th>\n",
       "      <td>\\r\\n\\t\\t\\t\\r\\n\\t\\t\\tIran and Assad I'm sure wi...</td>\n",
       "      <td>Little Johnny</td>\n",
       "      <td>\"Friend of Stormfront\"Sustaining Member</td>\n",
       "      <td>None</td>\n",
       "      <td>2016-12-16 18:46:00.000000</td>\n",
       "      <td>[serpent]</td>\n",
       "      <td>[Whites]</td>\n",
       "    </tr>\n",
       "    <tr>\n",
       "      <th>53</th>\n",
       "      <td>\\r\\n\\t\\t\\t\\r\\n\\t\\t\\tIsrael had Hillary set the...</td>\n",
       "      <td>Little Johnny</td>\n",
       "      <td>\"Friend of Stormfront\"Sustaining Member</td>\n",
       "      <td>None</td>\n",
       "      <td>2016-12-16 19:09:00.000000</td>\n",
       "      <td>[serpent]</td>\n",
       "      <td>[Whites]</td>\n",
       "    </tr>\n",
       "    <tr>\n",
       "      <th>55</th>\n",
       "      <td>It's contained in the  'Holy Serpent of the J...</td>\n",
       "      <td>Little Johnny</td>\n",
       "      <td>\"Friend of Stormfront\"Sustaining Member</td>\n",
       "      <td>None</td>\n",
       "      <td>2016-12-16 19:23:00.000000</td>\n",
       "      <td>[serpent]</td>\n",
       "      <td>[Whites]</td>\n",
       "    </tr>\n",
       "    <tr>\n",
       "      <th>66</th>\n",
       "      <td>Interesting, that's exactly the same lie they...</td>\n",
       "      <td>dirtydog</td>\n",
       "      <td>Forum Member</td>\n",
       "      <td>UK</td>\n",
       "      <td>2016-12-13 08:18:00.000000</td>\n",
       "      <td>[interesting]</td>\n",
       "      <td>[Jews]</td>\n",
       "    </tr>\n",
       "    <tr>\n",
       "      <th>70</th>\n",
       "      <td>\\r\\n\\t\\t\\t\\r\\n\\t\\t\\tHe claims moreover that he...</td>\n",
       "      <td>TenDollarBill</td>\n",
       "      <td>Forum Member</td>\n",
       "      <td>None</td>\n",
       "      <td>2016-12-16 15:19:00.000000</td>\n",
       "      <td>[fbi]</td>\n",
       "      <td>[Native Americans]</td>\n",
       "    </tr>\n",
       "    <tr>\n",
       "      <th>72</th>\n",
       "      <td>\\r\\n\\t\\t\\t\\r\\n\\t\\t\\tI just found the pizza ema...</td>\n",
       "      <td>crymouse</td>\n",
       "      <td>\"Friend of Stormfront\"Sustaining Member</td>\n",
       "      <td>None</td>\n",
       "      <td>2016-12-17 19:10:00.000000</td>\n",
       "      <td>[pizza]</td>\n",
       "      <td>[Jews]</td>\n",
       "    </tr>\n",
       "    <tr>\n",
       "      <th>88</th>\n",
       "      <td>\\r\\n\\t\\t\\t\\r\\n\\t\\t\\tI heard that some of the o...</td>\n",
       "      <td>Simon Legree</td>\n",
       "      <td>\"Friend of Stormfront\"Sustaining Member</td>\n",
       "      <td>Yankee Land</td>\n",
       "      <td>2016-12-19 17:29:00.000000</td>\n",
       "      <td>[muzzie]</td>\n",
       "      <td>[Arabs]</td>\n",
       "    </tr>\n",
       "    <tr>\n",
       "      <th>90</th>\n",
       "      <td>\\r\\n\\t\\t\\t\\r\\n\\t\\t\\trag-head (of female dispos...</td>\n",
       "      <td>Pagonis</td>\n",
       "      <td>Forum Member</td>\n",
       "      <td>None</td>\n",
       "      <td>2016-12-19 17:37:00.000000</td>\n",
       "      <td>[rag-head]</td>\n",
       "      <td>[Arabs]</td>\n",
       "    </tr>\n",
       "    <tr>\n",
       "      <th>93</th>\n",
       "      <td>\\r\\n\\t\\t\\t\\r\\n\\t\\t\\tI was in Target the other ...</td>\n",
       "      <td>WhiteNationalist</td>\n",
       "      <td>under the Black Sun</td>\n",
       "      <td>The United Banana Republic</td>\n",
       "      <td>2016-12-19 19:29:00.000000</td>\n",
       "      <td>[target]</td>\n",
       "      <td>[Indians]</td>\n",
       "    </tr>\n",
       "    <tr>\n",
       "      <th>108</th>\n",
       "      <td>\\r\\n\\t\\t\\t\\r\\n\\t\\t\\tgood point roo\\r\\n\\t\\t\\n</td>\n",
       "      <td>servocrow</td>\n",
       "      <td>Forum Member</td>\n",
       "      <td>Midwest</td>\n",
       "      <td>2016-12-19 21:58:00.000000</td>\n",
       "      <td>[roo]</td>\n",
       "      <td>[Mixed Races]</td>\n",
       "    </tr>\n",
       "    <tr>\n",
       "      <th>118</th>\n",
       "      <td>\\r\\n\\t\\t\\t\\r\\n\\t\\t\\tI have been vegan or stric...</td>\n",
       "      <td>Kelloman</td>\n",
       "      <td>Forum Member</td>\n",
       "      <td>Canada</td>\n",
       "      <td>2016-12-15 22:36:00.000000</td>\n",
       "      <td>[hitler, nazi]</td>\n",
       "      <td>[Germans, Germans]</td>\n",
       "    </tr>\n",
       "    <tr>\n",
       "      <th>119</th>\n",
       "      <td>Oh boy.  \\nI am going to write a heck of an a...</td>\n",
       "      <td>EwigesVolk</td>\n",
       "      <td>Könige Europas</td>\n",
       "      <td>None</td>\n",
       "      <td>2016-12-15 22:57:00.000000</td>\n",
       "      <td>[hitler, slit]</td>\n",
       "      <td>[Germans, Asians]</td>\n",
       "    </tr>\n",
       "  </tbody>\n",
       "</table>\n",
       "</div>"
      ],
      "text/plain": [
       "                                               content            author  \\\n",
       "6    \\r\\n\\t\\t\\t\\r\\n\\t\\t\\tLouisiana has a problem wi...           mrjowee   \n",
       "10   \\r\\n\\t\\t\\t\\r\\n\\t\\t\\t------------ --------- ---...         Bunnytoes   \n",
       "13   \\r\\n\\t\\t\\t\\r\\n\\t\\t\\tGood post, and a very inte...            O.W.N.   \n",
       "19   \\r\\n\\t\\t\\t\\r\\n\\t\\t\\tVery interesting predictio...   Daglaff Wolfing   \n",
       "20   \\nAccording to the World’s No. 1 Credit Strate...         reynoldsg   \n",
       "32   \\r\\n\\t\\t\\t\\r\\n\\t\\t\\tI'm not a queer but he's u...         RobboPOSH   \n",
       "41   \\r\\n\\t\\t\\t\\r\\n\\t\\t\\tTalk about safe spaces, th...      Simon Legree   \n",
       "44    I had a lot of graffiti written about me in h...      ErikTheWhite   \n",
       "51   \\r\\n\\t\\t\\t\\r\\n\\t\\t\\tIran and Assad I'm sure wi...     Little Johnny   \n",
       "53   \\r\\n\\t\\t\\t\\r\\n\\t\\t\\tIsrael had Hillary set the...     Little Johnny   \n",
       "55    It's contained in the  'Holy Serpent of the J...     Little Johnny   \n",
       "66    Interesting, that's exactly the same lie they...          dirtydog   \n",
       "70   \\r\\n\\t\\t\\t\\r\\n\\t\\t\\tHe claims moreover that he...     TenDollarBill   \n",
       "72   \\r\\n\\t\\t\\t\\r\\n\\t\\t\\tI just found the pizza ema...          crymouse   \n",
       "88   \\r\\n\\t\\t\\t\\r\\n\\t\\t\\tI heard that some of the o...      Simon Legree   \n",
       "90   \\r\\n\\t\\t\\t\\r\\n\\t\\t\\trag-head (of female dispos...           Pagonis   \n",
       "93   \\r\\n\\t\\t\\t\\r\\n\\t\\t\\tI was in Target the other ...  WhiteNationalist   \n",
       "108       \\r\\n\\t\\t\\t\\r\\n\\t\\t\\tgood point roo\\r\\n\\t\\t\\n         servocrow   \n",
       "118  \\r\\n\\t\\t\\t\\r\\n\\t\\t\\tI have been vegan or stric...          Kelloman   \n",
       "119   Oh boy.  \\nI am going to write a heck of an a...        EwigesVolk   \n",
       "\n",
       "                                author_title                 author_location  \\\n",
       "6                               Forum Member                            None   \n",
       "10                   Open Forums - moderated                           Texas   \n",
       "13                              Forum Member                         Cyberia   \n",
       "19                              Forum Member  Communist Republic of Maryland   \n",
       "20   \"Friend of Stormfront\"Sustaining Member                            None   \n",
       "32                              Forum Member                            None   \n",
       "41   \"Friend of Stormfront\"Sustaining Member                     Yankee Land   \n",
       "44   \"Friend of Stormfront\"Sustaining Member        Deep South United States   \n",
       "51   \"Friend of Stormfront\"Sustaining Member                            None   \n",
       "53   \"Friend of Stormfront\"Sustaining Member                            None   \n",
       "55   \"Friend of Stormfront\"Sustaining Member                            None   \n",
       "66                              Forum Member                              UK   \n",
       "70                              Forum Member                            None   \n",
       "72   \"Friend of Stormfront\"Sustaining Member                            None   \n",
       "88   \"Friend of Stormfront\"Sustaining Member                     Yankee Land   \n",
       "90                              Forum Member                            None   \n",
       "93                       under the Black Sun      The United Banana Republic   \n",
       "108                             Forum Member                         Midwest   \n",
       "118                             Forum Member                          Canada   \n",
       "119                           Könige Europas                            None   \n",
       "\n",
       "                      post_date           slurs          slur_races  \n",
       "6    2007-05-24 16:41:00.000000        [target]           [Indians]  \n",
       "10   2008-11-18 13:14:00.000000         [crime]            [Blacks]  \n",
       "13   2008-11-18 14:11:00.000000   [interesting]              [Jews]  \n",
       "19   2008-11-18 16:52:00.000000   [interesting]              [Jews]  \n",
       "20   2016-09-10 16:51:00.000000        [bubble]            [Greeks]  \n",
       "32   2016-11-15 18:08:00.000000   [interesting]              [Jews]  \n",
       "41   2016-12-09 08:20:00.000000          [safe]            [Blacks]  \n",
       "44   2016-12-09 21:24:00.000000          [safe]            [Blacks]  \n",
       "51   2016-12-16 18:46:00.000000       [serpent]            [Whites]  \n",
       "53   2016-12-16 19:09:00.000000       [serpent]            [Whites]  \n",
       "55   2016-12-16 19:23:00.000000       [serpent]            [Whites]  \n",
       "66   2016-12-13 08:18:00.000000   [interesting]              [Jews]  \n",
       "70   2016-12-16 15:19:00.000000           [fbi]  [Native Americans]  \n",
       "72   2016-12-17 19:10:00.000000         [pizza]              [Jews]  \n",
       "88   2016-12-19 17:29:00.000000        [muzzie]             [Arabs]  \n",
       "90   2016-12-19 17:37:00.000000      [rag-head]             [Arabs]  \n",
       "93   2016-12-19 19:29:00.000000        [target]           [Indians]  \n",
       "108  2016-12-19 21:58:00.000000           [roo]       [Mixed Races]  \n",
       "118  2016-12-15 22:36:00.000000  [hitler, nazi]  [Germans, Germans]  \n",
       "119  2016-12-15 22:57:00.000000  [hitler, slit]   [Germans, Asians]  "
      ]
     },
     "execution_count": 39,
     "metadata": {},
     "output_type": "execute_result"
    }
   ],
   "source": [
    "df_posts[df_posts['slur_races'].str.len() != 0].head(20)"
   ]
  },
  {
   "cell_type": "markdown",
   "metadata": {},
   "source": [
    "The slang dictionary isn't very helpful -- there are too many false positives. Out of all the first twenty hits, the only useful ones were `muzzie` and `rag-head`.\n",
    "\n",
    "Why don't we try a different approach. First, let's look at topic models."
   ]
  },
  {
   "cell_type": "code",
   "execution_count": 101,
   "metadata": {
    "collapsed": false
   },
   "outputs": [
    {
     "data": {
      "text/plain": [
       "(972846, 5)"
      ]
     },
     "execution_count": 101,
     "metadata": {},
     "output_type": "execute_result"
    }
   ],
   "source": [
    "df_text = pd.read_sql_query('''\n",
    "        SELECT s.*, p.thread_url as thread_url, p.author as author, a.primary_state as primary_state\n",
    "            FROM (SELECT subposts.post_id, GROUP_CONCAT(subposts.content, \\\" \\\") AS text FROM subposts GROUP BY post_id) AS s\n",
    "            INNER JOIN (SELECT thread_url, post_id, author, author_location FROM posts) AS p ON s.post_id = p.post_id\n",
    "            LEFT JOIN (SELECT author, primary_state FROM authors) AS a ON a.author = p.author\n",
    "''', 'sqlite:////home/sam/data/stormfront/stormfront.sqlite')\n",
    "\n",
    "df_text.shape"
   ]
  },
  {
   "cell_type": "code",
   "execution_count": null,
   "metadata": {
    "collapsed": true
   },
   "outputs": [],
   "source": [
    "term2id = {}\n",
    "for id, term in id2term.items():\n",
    "    term2id[term] = id"
   ]
  },
  {
   "cell_type": "code",
   "execution_count": null,
   "metadata": {
    "collapsed": true
   },
   "outputs": [],
   "source": [
    "from topicmodels.text_to_term_matrix import text_to_term_matrix\n",
    "import textacy\n",
    "dfs = textacy.vsm.get_doc_freqs(doc_term_matrix)"
   ]
  },
  {
   "cell_type": "code",
   "execution_count": 118,
   "metadata": {
    "collapsed": false
   },
   "outputs": [],
   "source": [
    "model_nmf = textacy.tm.TopicModel('nmf', n_topics=20)\n",
    "\n",
    "model_nmf.fit(doc_term_matrix)"
   ]
  },
  {
   "cell_type": "code",
   "execution_count": null,
   "metadata": {
    "collapsed": true
   },
   "outputs": [],
   "source": [
    "state_groupby = df_text.fillna('').groupby('primary_state')\n",
    "states = state_groupby.primary_state.first()\n",
    "texts = state_groupby.text.apply(lambda x: '\\n'.join(x))"
   ]
  },
  {
   "cell_type": "code",
   "execution_count": 138,
   "metadata": {
    "collapsed": false
   },
   "outputs": [
    {
     "name": "stdout",
     "output_type": "stream",
     "text": [
      "State:  alabama\n",
      "State:  alaska\n",
      "State:  arizona\n",
      "State:  arkansas\n",
      "State:  california\n",
      "State:  colorado\n",
      "State:  connecticut\n",
      "State:  delaware\n",
      "State:  district of columbia\n",
      "State:  florida\n",
      "State:  georgia\n",
      "State:  hawaii\n",
      "State:  idaho\n",
      "State:  illinois\n",
      "State:  indiana\n",
      "State:  iowa\n",
      "State:  kansas\n",
      "State:  kentucky\n",
      "State:  louisiana\n",
      "State:  maine\n",
      "State:  maryland\n",
      "State:  massachusetts\n",
      "State:  michigan\n",
      "State:  minnesota\n",
      "State:  mississippi\n",
      "State:  missouri\n",
      "State:  montana\n",
      "State:  nebraska\n",
      "State:  nevada\n",
      "State:  new hampshire\n",
      "State:  new jersey\n",
      "State:  new mexico\n",
      "State:  new york\n",
      "State:  north carolina\n",
      "State:  north dakota\n",
      "State:  ohio\n",
      "State:  oklahoma\n",
      "State:  oregon\n",
      "State:  pennsylvania\n",
      "State:  rhode island\n",
      "State:  south carolina\n",
      "State:  south dakota\n",
      "State:  tennessee\n",
      "State:  texas\n",
      "State:  utah\n",
      "State:  vermont\n",
      "State:  virginia\n",
      "State:  washington\n",
      "State:  west virginia\n",
      "State:  wisconsin\n",
      "State:  wyoming\n"
     ]
    }
   ],
   "source": [
    "location_topics = []\n",
    "\n",
    "for i, t in enumerate(texts[1:]):\n",
    "    print('State: ', states[i+1])\n",
    "    topics = model_nmf.transform(text_to_term_matrix(t, term2id, dfs, verbose=False))\n",
    "    location_topics.append(topics)"
   ]
  },
  {
   "cell_type": "code",
   "execution_count": 201,
   "metadata": {
    "collapsed": false
   },
   "outputs": [
    {
     "data": {
      "text/plain": [
       "california              18749\n",
       "texas                   17829\n",
       "florida                 13922\n",
       "tennessee               10318\n",
       "illinois                 5751\n",
       "virginia                 5046\n",
       "pennsylvania             5030\n",
       "georgia                  4343\n",
       "indiana                  4326\n",
       "oregon                   4229\n",
       "ohio                     4164\n",
       "minnesota                4012\n",
       "missouri                 3722\n",
       "mississippi              3538\n",
       "new york                 3513\n",
       "michigan                 3512\n",
       "louisiana                3450\n",
       "colorado                 3119\n",
       "utah                     2807\n",
       "arizona                  2566\n",
       "washington               2550\n",
       "alabama                  2247\n",
       "west virginia            2242\n",
       "maryland                 2219\n",
       "north carolina           2212\n",
       "wisconsin                2084\n",
       "iowa                     2070\n",
       "oklahoma                 1896\n",
       "district of columbia     1789\n",
       "new jersey               1773\n",
       "montana                  1748\n",
       "massachusetts            1423\n",
       "nevada                   1419\n",
       "arkansas                 1282\n",
       "connecticut              1220\n",
       "kentucky                 1198\n",
       "maine                     965\n",
       "delaware                  953\n",
       "idaho                     777\n",
       "alaska                    626\n",
       "south carolina            356\n",
       "nebraska                  293\n",
       "wyoming                   182\n",
       "kansas                    124\n",
       "vermont                    97\n",
       "rhode island               74\n",
       "new hampshire              46\n",
       "north dakota               16\n",
       "south dakota               16\n",
       "hawaii                     14\n",
       "new mexico                  7\n",
       "Name: primary_state, dtype: int64"
      ]
     },
     "execution_count": 201,
     "metadata": {},
     "output_type": "execute_result"
    }
   ],
   "source": [
    "df_text.primary_state.value_counts()"
   ]
  },
  {
   "cell_type": "code",
   "execution_count": 179,
   "metadata": {
    "collapsed": false
   },
   "outputs": [
    {
     "data": {
      "text/plain": [
       "california              351\n",
       "texas                   289\n",
       "florida                 259\n",
       "pennsylvania            148\n",
       "georgia                 130\n",
       "tennessee               127\n",
       "ohio                    123\n",
       "michigan                103\n",
       "virginia                102\n",
       "illinois                 95\n",
       "washington               91\n",
       "arizona                  72\n",
       "indiana                  71\n",
       "minnesota                70\n",
       "new york                 69\n",
       "colorado                 66\n",
       "wisconsin                62\n",
       "oregon                   61\n",
       "kentucky                 61\n",
       "louisiana                60\n",
       "alabama                  58\n",
       "north carolina           58\n",
       "missouri                 56\n",
       "mississippi              52\n",
       "maryland                 51\n",
       "oklahoma                 45\n",
       "arkansas                 43\n",
       "massachusetts            38\n",
       "idaho                    37\n",
       "montana                  36\n",
       "maine                    34\n",
       "new jersey               32\n",
       "utah                     28\n",
       "south carolina           26\n",
       "iowa                     26\n",
       "connecticut              25\n",
       "nevada                   24\n",
       "nebraska                 23\n",
       "kansas                   20\n",
       "delaware                 20\n",
       "alaska                   15\n",
       "district of columbia     14\n",
       "wyoming                  11\n",
       "west virginia            10\n",
       "vermont                   6\n",
       "new hampshire             6\n",
       "north dakota              3\n",
       "hawaii                    3\n",
       "rhode island              2\n",
       "new mexico                2\n",
       "south dakota              1\n",
       "Name: primary_state, dtype: int64"
      ]
     },
     "execution_count": 179,
     "metadata": {},
     "output_type": "execute_result"
    }
   ],
   "source": [
    "posters_per_state = df_text.groupby(['primary_state', 'author']).count().reset_index().primary_state.value_counts()\n",
    "\n",
    "posters_per_state"
   ]
  },
  {
   "cell_type": "code",
   "execution_count": 199,
   "metadata": {
    "collapsed": false
   },
   "outputs": [
    {
     "data": {
      "text/plain": [
       "3215"
      ]
     },
     "execution_count": 199,
     "metadata": {},
     "output_type": "execute_result"
    }
   ],
   "source": [
    "posters_per_state.sum()"
   ]
  },
  {
   "cell_type": "code",
   "execution_count": 181,
   "metadata": {
    "collapsed": false
   },
   "outputs": [
    {
     "name": "stdout",
     "output_type": "stream",
     "text": [
      "34\n"
     ]
    }
   ],
   "source": [
    "state_topics = {}\n",
    "for i, state in enumerate(states[1:]):\n",
    "    if (df_text.primary_state.value_counts()[state] > 1000) and (posters_per_state[state] > 20):\n",
    "        state_topics[state] = location_topics[i][0]\n",
    "        \n",
    "print(len(state_topics))"
   ]
  },
  {
   "cell_type": "code",
   "execution_count": 182,
   "metadata": {
    "collapsed": false
   },
   "outputs": [
    {
     "data": {
      "text/plain": [
       "array([ 0.03135409,  0.01364459,  0.00567732,  0.03198987,  0.0064569 ,\n",
       "        0.00321225,  0.00506008,  0.00923577,  0.03130595,  0.01481414,\n",
       "        0.00435584,  0.00814414,  0.05337092,  0.00572125,  0.00545461,\n",
       "        0.01081948,  0.00266125,  0.00508857,  0.00270196,  0.0003422 ])"
      ]
     },
     "execution_count": 182,
     "metadata": {},
     "output_type": "execute_result"
    }
   ],
   "source": [
    "state_topics['california']"
   ]
  },
  {
   "cell_type": "code",
   "execution_count": 208,
   "metadata": {
    "collapsed": false
   },
   "outputs": [
    {
     "data": {
      "text/plain": [
       "[['texas', 0.034124691401523778],\n",
       " ['missouri', 0.03270464604486286],\n",
       " ['california', 0.031305949889004939],\n",
       " ['iowa', 0.031284563974553148],\n",
       " ['georgia', 0.029574171475038016],\n",
       " ['pennsylvania', 0.02888078473172832],\n",
       " ['mississippi', 0.028369247313606825],\n",
       " ['florida', 0.027098742261122463],\n",
       " ['colorado', 0.026946745264674561],\n",
       " ['tennessee', 0.02621793729734808],\n",
       " ['arizona', 0.025093240895376227],\n",
       " ['arkansas', 0.0240835330783826],\n",
       " ['maryland', 0.023897438520011593],\n",
       " ['alabama', 0.023794128829926806],\n",
       " ['north carolina', 0.023690142710608576],\n",
       " ['ohio', 0.022969023137800131],\n",
       " ['illinois', 0.02262548242351034],\n",
       " ['michigan', 0.022616899556519368],\n",
       " ['washington', 0.021918931168973328],\n",
       " ['montana', 0.021466493655646911],\n",
       " ['louisiana', 0.020751763914554307],\n",
       " ['minnesota', 0.018845632819999989],\n",
       " ['kentucky', 0.018818256941928537],\n",
       " ['oregon', 0.018674368409990056],\n",
       " ['indiana', 0.018416833226977167],\n",
       " ['wisconsin', 0.017833002501642541],\n",
       " ['new jersey', 0.017008310148083683],\n",
       " ['connecticut', 0.016787288752451963],\n",
       " ['new york', 0.016714064718426784],\n",
       " ['oklahoma', 0.015285053234970815],\n",
       " ['massachusetts', 0.013306256659817247],\n",
       " ['virginia', 0.01270828502425189],\n",
       " ['utah', 0.012311646239317535],\n",
       " ['nevada', 0.01121406097599993]]"
      ]
     },
     "execution_count": 208,
     "metadata": {},
     "output_type": "execute_result"
    }
   ],
   "source": [
    "sorted([[k, v[8]] for k, v in state_topics.items()], key=lambda x: x[1], reverse=True)"
   ]
  },
  {
   "cell_type": "code",
   "execution_count": 186,
   "metadata": {
    "collapsed": false
   },
   "outputs": [],
   "source": [
    "def print_state_topics(state):\n",
    "    topics = state_topics[state]\n",
    "    for score, terms in sorted(zip(topics, model_terms), key=lambda x: x[0], reverse=True):\n",
    "        print('{}: {}'.format(score, ', '.join(terms)))"
   ]
  },
  {
   "cell_type": "code",
   "execution_count": 204,
   "metadata": {
    "collapsed": false
   },
   "outputs": [
    {
     "name": "stdout",
     "output_type": "stream",
     "text": [
      "0.04787250027612729: not, ', like, woman, people\n",
      "0.03412469140152378: america, american, mexico, mexican, california\n",
      "0.02009468748129885: gun, police, cop, shoot, officer\n",
      "0.01814071282729425: muslim, muslims, islam, islamic, christian\n",
      "0.016577733029856774: white, black, race, racist, negro\n",
      "0.011733255228219455: jews, jewish, jew, holocaust, anti\n",
      "0.01048900030050734: obama, president, barack, obongo, kenya\n",
      "0.00995412074373897: paul, ron, ron paul, romney, candidate\n",
      "0.007543860374882973: israel, israeli, palestinians, israelis, gaza\n",
      "0.007373303053248722: mccain, vote, republican, party, gop\n",
      "0.005686870831928929: trump, donald, cruz, donald trump, vote\n",
      "0.005561226682103773: iran, iraq, iranian, nuclear, war\n",
      "0.005052110485935656: school, child, kid, student, teacher\n",
      "0.003607422494371585: germany, german, germans, hitler, merkel\n",
      "0.003246935394267378: hillary, clinton, hillary clinton, bernie, vote\n",
      "0.003184454988494421: china, chinese, japan, asian, japanese\n",
      "0.0030135488611229143: russia, putin, russian, russians, ukraine\n",
      "0.0028939545291385713: europe, european, eu, greece, europeans\n",
      "0.001708522866703218: france, french, paris, sarkozy, le\n",
      "0.00024471224480429664: sweden, swedish, swede, swedes, stockholm\n"
     ]
    }
   ],
   "source": [
    "print_state_topics('texas')"
   ]
  },
  {
   "cell_type": "code",
   "execution_count": 185,
   "metadata": {
    "collapsed": false
   },
   "outputs": [
    {
     "name": "stdout",
     "output_type": "stream",
     "text": [
      "0\n",
      "not\n",
      "'\n",
      "like\n",
      "woman\n",
      "people\n",
      "-----\n",
      "\n",
      "1\n",
      "israel\n",
      "israeli\n",
      "palestinians\n",
      "israelis\n",
      "gaza\n",
      "-----\n",
      "\n",
      "2\n",
      "trump\n",
      "donald\n",
      "cruz\n",
      "donald trump\n",
      "vote\n",
      "-----\n",
      "\n",
      "3\n",
      "jews\n",
      "jewish\n",
      "jew\n",
      "holocaust\n",
      "anti\n",
      "-----\n",
      "\n",
      "4\n",
      "russia\n",
      "putin\n",
      "russian\n",
      "russians\n",
      "ukraine\n",
      "-----\n",
      "\n",
      "5\n",
      "muslim\n",
      "muslims\n",
      "islam\n",
      "islamic\n",
      "christian\n",
      "-----\n",
      "\n",
      "6\n",
      "obama\n",
      "president\n",
      "barack\n",
      "obongo\n",
      "kenya\n",
      "-----\n",
      "\n",
      "7\n",
      "europe\n",
      "european\n",
      "eu\n",
      "greece\n",
      "europeans\n",
      "-----\n",
      "\n",
      "8\n",
      "america\n",
      "american\n",
      "mexico\n",
      "mexican\n",
      "california\n",
      "-----\n",
      "\n",
      "9\n",
      "germany\n",
      "german\n",
      "germans\n",
      "hitler\n",
      "merkel\n",
      "-----\n",
      "\n",
      "10\n",
      "china\n",
      "chinese\n",
      "japan\n",
      "asian\n",
      "japanese\n",
      "-----\n",
      "\n",
      "11\n",
      "mccain\n",
      "vote\n",
      "republican\n",
      "party\n",
      "gop\n",
      "-----\n",
      "\n",
      "12\n",
      "paul\n",
      "ron\n",
      "ron paul\n",
      "romney\n",
      "candidate\n",
      "-----\n",
      "\n",
      "13\n",
      "iran\n",
      "iraq\n",
      "iranian\n",
      "nuclear\n",
      "war\n",
      "-----\n",
      "\n",
      "14\n",
      "gun\n",
      "police\n",
      "cop\n",
      "shoot\n",
      "officer\n",
      "-----\n",
      "\n",
      "15\n",
      "white\n",
      "black\n",
      "race\n",
      "racist\n",
      "negro\n",
      "-----\n",
      "\n",
      "16\n",
      "hillary\n",
      "clinton\n",
      "hillary clinton\n",
      "bernie\n",
      "vote\n",
      "-----\n",
      "\n",
      "17\n",
      "school\n",
      "child\n",
      "kid\n",
      "student\n",
      "teacher\n",
      "-----\n",
      "\n",
      "18\n",
      "france\n",
      "french\n",
      "paris\n",
      "sarkozy\n",
      "le\n",
      "-----\n",
      "\n",
      "19\n",
      "sweden\n",
      "swedish\n",
      "swede\n",
      "swedes\n",
      "stockholm\n",
      "-----\n",
      "\n"
     ]
    }
   ],
   "source": [
    "model_terms = []\n",
    "for topic_idx, top_terms in model_nmf.top_topic_terms(id2term, top_n=5):\n",
    "    model_terms.append(top_terms)\n",
    "    print(topic_idx)\n",
    "    print('\\n'.join(top_terms))\n",
    "    print('-----\\n')"
   ]
  }
 ],
 "metadata": {
  "kernelspec": {
   "display_name": "Python 3",
   "language": "python",
   "name": "python3"
  },
  "language_info": {
   "codemirror_mode": {
    "name": "ipython",
    "version": 3
   },
   "file_extension": ".py",
   "mimetype": "text/x-python",
   "name": "python",
   "nbconvert_exporter": "python",
   "pygments_lexer": "ipython3",
   "version": "3.5.2"
  }
 },
 "nbformat": 4,
 "nbformat_minor": 2
}
