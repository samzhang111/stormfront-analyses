{
 "cells": [
  {
   "cell_type": "code",
   "execution_count": 3,
   "metadata": {
    "collapsed": false
   },
   "outputs": [],
   "source": [
    "import pandas as pd\n",
    "\n",
    "df_scrape = pd.read_sql_table('resultdb_Stormfront', 'sqlite:////home/sam/far-right/stormfront/resultdb.sqlite')"
   ]
  },
  {
   "cell_type": "code",
   "execution_count": 4,
   "metadata": {
    "collapsed": false
   },
   "outputs": [
    {
     "name": "stdout",
     "output_type": "stream",
     "text": [
      "(97291, 4)\n"
     ]
    },
    {
     "data": {
      "text/html": [
       "<div>\n",
       "<table border=\"1\" class=\"dataframe\">\n",
       "  <thead>\n",
       "    <tr style=\"text-align: right;\">\n",
       "      <th></th>\n",
       "      <th>taskid</th>\n",
       "      <th>url</th>\n",
       "      <th>result</th>\n",
       "      <th>updatetime</th>\n",
       "    </tr>\n",
       "  </thead>\n",
       "  <tbody>\n",
       "    <tr>\n",
       "      <th>0</th>\n",
       "      <td>5c40eb08be70f35854ffafb8664ccc32</td>\n",
       "      <td>https://www.stormfront.org/forum/t390760</td>\n",
       "      <td>{\"url\": \"https://www.stormfront.org/forum/t390...</td>\n",
       "      <td>1.482262e+09</td>\n",
       "    </tr>\n",
       "    <tr>\n",
       "      <th>1</th>\n",
       "      <td>6fccf8f76446722cbd9b960788d7907f</td>\n",
       "      <td>https://www.stormfront.org/forum/t543403</td>\n",
       "      <td>{\"url\": \"https://www.stormfront.org/forum/t543...</td>\n",
       "      <td>1.482262e+09</td>\n",
       "    </tr>\n",
       "    <tr>\n",
       "      <th>2</th>\n",
       "      <td>125c26b84f5042c68d84218ddbdf8114</td>\n",
       "      <td>https://www.stormfront.org/forum/t1176587</td>\n",
       "      <td>{\"url\": \"https://www.stormfront.org/forum/t117...</td>\n",
       "      <td>1.482262e+09</td>\n",
       "    </tr>\n",
       "    <tr>\n",
       "      <th>3</th>\n",
       "      <td>332b1f09517e3d141ef100b0d94b9c47</td>\n",
       "      <td>https://www.stormfront.org/forum/t1186708</td>\n",
       "      <td>{\"url\": \"https://www.stormfront.org/forum/t118...</td>\n",
       "      <td>1.482262e+09</td>\n",
       "    </tr>\n",
       "    <tr>\n",
       "      <th>4</th>\n",
       "      <td>56a7a39456d9f4b837f3b81473f101f4</td>\n",
       "      <td>https://www.stormfront.org/forum/t1190477</td>\n",
       "      <td>{\"url\": \"https://www.stormfront.org/forum/t119...</td>\n",
       "      <td>1.482262e+09</td>\n",
       "    </tr>\n",
       "  </tbody>\n",
       "</table>\n",
       "</div>"
      ],
      "text/plain": [
       "                             taskid  \\\n",
       "0  5c40eb08be70f35854ffafb8664ccc32   \n",
       "1  6fccf8f76446722cbd9b960788d7907f   \n",
       "2  125c26b84f5042c68d84218ddbdf8114   \n",
       "3  332b1f09517e3d141ef100b0d94b9c47   \n",
       "4  56a7a39456d9f4b837f3b81473f101f4   \n",
       "\n",
       "                                         url  \\\n",
       "0   https://www.stormfront.org/forum/t390760   \n",
       "1   https://www.stormfront.org/forum/t543403   \n",
       "2  https://www.stormfront.org/forum/t1176587   \n",
       "3  https://www.stormfront.org/forum/t1186708   \n",
       "4  https://www.stormfront.org/forum/t1190477   \n",
       "\n",
       "                                              result    updatetime  \n",
       "0  {\"url\": \"https://www.stormfront.org/forum/t390...  1.482262e+09  \n",
       "1  {\"url\": \"https://www.stormfront.org/forum/t543...  1.482262e+09  \n",
       "2  {\"url\": \"https://www.stormfront.org/forum/t117...  1.482262e+09  \n",
       "3  {\"url\": \"https://www.stormfront.org/forum/t118...  1.482262e+09  \n",
       "4  {\"url\": \"https://www.stormfront.org/forum/t119...  1.482262e+09  "
      ]
     },
     "execution_count": 4,
     "metadata": {},
     "output_type": "execute_result"
    }
   ],
   "source": [
    "print(df_scrape.shape)\n",
    "\n",
    "df_scrape.head()"
   ]
  },
  {
   "cell_type": "markdown",
   "metadata": {},
   "source": [
    "Each page of threads has a row in this table. We must unpack the `result` json blob to the individual posts.\n",
    "\n",
    "Each `result` blob contains several keys:\n",
    "\n",
    "* The `username` key is a mistake and can be ignored.\n",
    "* The `url` key also encodes pagination information for a thread. Page 13 of a thread will appear as `<thread_url>-13/`. This will need to be extracted out of the url."
   ]
  },
  {
   "cell_type": "code",
   "execution_count": 5,
   "metadata": {
    "collapsed": false
   },
   "outputs": [
    {
     "name": "stdout",
     "output_type": "stream",
     "text": [
      "Result keys: title\tposts\tusername\turl\n",
      "Url: https://www.stormfront.org/forum/t1185584-13/\n"
     ]
    }
   ],
   "source": [
    "import json\n",
    "\n",
    "thread_page = json.loads(df_scrape.result[1000])\n",
    "print(\"Result keys: {}\\nUrl: {}\".format(\"\\t\".join(thread_page.keys()), thread_page['url']))"
   ]
  },
  {
   "cell_type": "code",
   "execution_count": 6,
   "metadata": {
    "collapsed": false
   },
   "outputs": [
    {
     "data": {
      "text/plain": [
       "(('https://www.stormfront.org/forum/t1185584', 13),\n",
       " ('https://www.stormfront.org/forum/t1185584', 1))"
      ]
     },
     "execution_count": 6,
     "metadata": {},
     "output_type": "execute_result"
    }
   ],
   "source": [
    "def extract_page(url):\n",
    "    base, _, page = url.partition('-')\n",
    "    \n",
    "    if page:\n",
    "        return base.strip('/'), int(page.strip('/'))\n",
    "    else:\n",
    "        return base.strip('/'), 1\n",
    "\n",
    "extract_page('https://www.stormfront.org/forum/t1185584-13/'), extract_page('https://www.stormfront.org/forum/t1185584/')"
   ]
  },
  {
   "cell_type": "code",
   "execution_count": 7,
   "metadata": {
    "collapsed": false,
    "scrolled": true
   },
   "outputs": [
    {
     "name": "stdout",
     "output_type": "stream",
     "text": [
      "Progress: 0\n",
      "Progress: 300\n",
      "Progress: 600\n",
      "Progress: 900\n",
      "Progress: 1200\n",
      "Progress: 1500\n",
      "Progress: 1800\n",
      "Progress: 2100\n",
      "Progress: 2400\n",
      "Progress: 2700\n",
      "Progress: 3000\n",
      "Progress: 3300\n",
      "Progress: 3600\n",
      "Progress: 3900\n",
      "Progress: 4200\n",
      "Progress: 4500\n",
      "Progress: 4800\n",
      "Progress: 5100\n",
      "Progress: 5400\n",
      "Progress: 5700\n",
      "Progress: 6000\n",
      "Progress: 6300\n",
      "Progress: 6600\n",
      "Progress: 6900\n",
      "Progress: 7200\n",
      "Progress: 7500\n",
      "Progress: 7800\n",
      "Progress: 8100\n",
      "Progress: 8400\n",
      "Progress: 8700\n",
      "Progress: 9000\n",
      "Progress: 9300\n",
      "Progress: 9600\n",
      "Progress: 9900\n",
      "Progress: 10200\n",
      "Progress: 10500\n",
      "Progress: 10800\n",
      "Progress: 11100\n",
      "Progress: 11400\n",
      "Progress: 11700\n",
      "Progress: 12000\n",
      "Progress: 12300\n",
      "Progress: 12600\n",
      "Progress: 12900\n",
      "Progress: 13200\n",
      "Progress: 13500\n",
      "Progress: 13800\n",
      "Progress: 14100\n",
      "Progress: 14400\n",
      "Progress: 14700\n",
      "Progress: 15000\n",
      "Progress: 15300\n",
      "Progress: 15600\n",
      "Progress: 15900\n",
      "Progress: 16200\n",
      "Progress: 16500\n",
      "Progress: 16800\n",
      "Progress: 17100\n",
      "Progress: 17400\n",
      "Progress: 17700\n",
      "Progress: 18000\n",
      "Progress: 18300\n",
      "Progress: 18600\n",
      "Progress: 18900\n",
      "Progress: 19200\n",
      "Progress: 19500\n",
      "Progress: 19800\n",
      "Progress: 20100\n",
      "Progress: 20400\n",
      "Progress: 20700\n",
      "Progress: 21000\n",
      "Progress: 21300\n",
      "Progress: 21600\n",
      "Progress: 21900\n",
      "Progress: 22200\n",
      "Progress: 22500\n",
      "Progress: 22800\n",
      "Progress: 23100\n",
      "Progress: 23400\n",
      "Progress: 23700\n",
      "Progress: 24000\n",
      "Progress: 24300\n",
      "Progress: 24600\n",
      "Progress: 24900\n",
      "Progress: 25200\n",
      "Progress: 25500\n",
      "Progress: 25800\n",
      "Progress: 26100\n",
      "Progress: 26400\n",
      "Progress: 26700\n",
      "Progress: 27000\n",
      "Progress: 27300\n",
      "Progress: 27600\n",
      "Progress: 27900\n",
      "Progress: 28200\n",
      "Progress: 28500\n",
      "Progress: 28800\n",
      "Progress: 29100\n",
      "Progress: 29400\n",
      "Progress: 29700\n",
      "Progress: 30000\n",
      "Progress: 30300\n",
      "Progress: 30600\n",
      "Progress: 30900\n",
      "Progress: 31200\n",
      "Progress: 31500\n",
      "Progress: 31800\n",
      "Progress: 32100\n",
      "Progress: 32400\n",
      "Progress: 32700\n",
      "Progress: 33000\n",
      "Progress: 33300\n",
      "Progress: 33600\n",
      "Progress: 33900\n",
      "Progress: 34200\n",
      "Progress: 34500\n",
      "Progress: 34800\n",
      "Progress: 35100\n",
      "Progress: 35400\n",
      "Progress: 35700\n",
      "Progress: 36000\n",
      "Progress: 36300\n",
      "Progress: 36600\n",
      "Progress: 36900\n",
      "Progress: 37200\n",
      "Progress: 37500\n",
      "Progress: 37800\n",
      "Progress: 38100\n",
      "Progress: 38400\n",
      "Progress: 38700\n",
      "Progress: 39000\n",
      "Progress: 39300\n",
      "Progress: 39600\n",
      "Progress: 39900\n",
      "Progress: 40200\n",
      "Progress: 40500\n",
      "Progress: 40800\n",
      "Progress: 41100\n",
      "Progress: 41400\n",
      "Progress: 41700\n",
      "Progress: 42000\n",
      "Progress: 42300\n",
      "Progress: 42600\n",
      "Progress: 42900\n",
      "Progress: 43200\n",
      "Progress: 43500\n",
      "Progress: 43800\n",
      "Progress: 44100\n",
      "Progress: 44400\n",
      "Progress: 44700\n",
      "Progress: 45000\n",
      "Progress: 45300\n",
      "Progress: 45600\n",
      "Progress: 45900\n",
      "Progress: 46200\n",
      "Progress: 46500\n",
      "Progress: 46800\n",
      "Progress: 47100\n",
      "Progress: 47400\n",
      "Progress: 47700\n",
      "Progress: 48000\n",
      "Progress: 48300\n",
      "Progress: 48600\n",
      "Progress: 48900\n",
      "Progress: 49200\n",
      "Progress: 49500\n",
      "Progress: 49800\n",
      "Progress: 50100\n",
      "Progress: 50400\n",
      "Progress: 50700\n",
      "Progress: 51000\n",
      "Progress: 51300\n",
      "Progress: 51600\n",
      "Progress: 51900\n",
      "Progress: 52200\n",
      "Progress: 52500\n",
      "Progress: 52800\n",
      "Progress: 53100\n",
      "Progress: 53400\n",
      "Progress: 53700\n",
      "Progress: 54000\n",
      "Progress: 54300\n",
      "Progress: 54600\n",
      "Progress: 54900\n",
      "Progress: 55200\n",
      "Progress: 55500\n",
      "Progress: 55800\n",
      "Progress: 56100\n",
      "Progress: 56400\n",
      "Progress: 56700\n",
      "Progress: 57000\n",
      "Progress: 57300\n",
      "Progress: 57600\n",
      "Progress: 57900\n",
      "Progress: 58200\n",
      "Progress: 58500\n",
      "Progress: 58800\n",
      "Progress: 59100\n",
      "Progress: 59400\n",
      "Progress: 59700\n",
      "Progress: 60000\n",
      "Progress: 60300\n",
      "Progress: 60600\n",
      "Progress: 60900\n",
      "Progress: 61200\n",
      "Progress: 61500\n",
      "Progress: 61800\n",
      "Progress: 62100\n",
      "Progress: 62400\n",
      "Progress: 62700\n",
      "Progress: 63000\n",
      "Progress: 63300\n",
      "Progress: 63600\n",
      "Progress: 63900\n",
      "Progress: 64200\n",
      "Progress: 64500\n",
      "Progress: 64800\n",
      "Progress: 65100\n",
      "Progress: 65400\n",
      "Progress: 65700\n",
      "Progress: 66000\n",
      "Progress: 66300\n",
      "Progress: 66600\n",
      "Progress: 66900\n",
      "Progress: 67200\n",
      "Progress: 67500\n",
      "Progress: 67800\n",
      "Progress: 68100\n",
      "Progress: 68400\n",
      "Progress: 68700\n",
      "Progress: 69000\n",
      "Progress: 69300\n",
      "Progress: 69600\n",
      "Progress: 69900\n",
      "Progress: 70200\n",
      "Progress: 70500\n",
      "Progress: 70800\n",
      "Progress: 71100\n",
      "Progress: 71400\n",
      "Progress: 71700\n",
      "Progress: 72000\n",
      "Progress: 72300\n",
      "Progress: 72600\n",
      "Progress: 72900\n",
      "Progress: 73200\n",
      "Progress: 73500\n",
      "Progress: 73800\n",
      "Progress: 74100\n",
      "Progress: 74400\n",
      "Progress: 74700\n",
      "Progress: 75000\n",
      "Progress: 75300\n",
      "Progress: 75600\n",
      "Progress: 75900\n",
      "Progress: 76200\n",
      "Progress: 76500\n",
      "Progress: 76800\n",
      "Progress: 77100\n",
      "Progress: 77400\n",
      "Progress: 77700\n",
      "Progress: 78000\n",
      "Progress: 78300\n",
      "Progress: 78600\n",
      "Progress: 78900\n",
      "Progress: 79200\n",
      "Progress: 79500\n",
      "Progress: 79800\n",
      "Progress: 80100\n",
      "Progress: 80400\n",
      "Progress: 80700\n",
      "Progress: 81000\n",
      "Progress: 81300\n",
      "Progress: 81600\n",
      "Progress: 81900\n",
      "Progress: 82200\n",
      "Progress: 82500\n",
      "Progress: 82800\n",
      "Progress: 83100\n",
      "Progress: 83400\n",
      "Progress: 83700\n",
      "Progress: 84000\n",
      "Progress: 84300\n",
      "Progress: 84600\n",
      "Progress: 84900\n",
      "Progress: 85200\n",
      "Progress: 85500\n",
      "Progress: 85800\n",
      "Progress: 86100\n",
      "Progress: 86400\n",
      "Progress: 86700\n",
      "Progress: 87000\n",
      "Progress: 87300\n",
      "Progress: 87600\n",
      "Progress: 87900\n",
      "Progress: 88200\n",
      "Progress: 88500\n",
      "Progress: 88800\n",
      "Progress: 89100\n",
      "Progress: 89400\n",
      "Progress: 89700\n",
      "Progress: 90000\n",
      "Progress: 90300\n",
      "Progress: 90600\n",
      "Progress: 90900\n",
      "Progress: 91200\n",
      "Progress: 91500\n",
      "Progress: 91800\n",
      "Progress: 92100\n",
      "Progress: 92400\n",
      "Progress: 92700\n",
      "Progress: 93000\n",
      "Progress: 93300\n",
      "Progress: 93600\n",
      "Progress: 93900\n",
      "Progress: 94200\n",
      "Progress: 94500\n",
      "Progress: 94800\n",
      "Progress: 95100\n",
      "Progress: 95400\n",
      "Progress: 95700\n",
      "Progress: 96000\n",
      "Progress: 96300\n",
      "Progress: 96600\n",
      "Progress: 96900\n",
      "Progress: 97200\n"
     ]
    }
   ],
   "source": [
    "dict_list_scrape = []\n",
    "\n",
    "for i, row in df_scrape.iterrows():\n",
    "    page = json.loads(row.result)\n",
    "    \n",
    "    dict_list_scrape.append(page)\n",
    "    \n",
    "    if i % 300 == 0:\n",
    "        print(\"Progress: {}\".format(i))"
   ]
  },
  {
   "cell_type": "code",
   "execution_count": 8,
   "metadata": {
    "collapsed": false,
    "scrolled": true
   },
   "outputs": [
    {
     "name": "stdout",
     "output_type": "stream",
     "text": [
      "Progress: 0\n",
      "Progress: 1000\n",
      "Progress: 2000\n",
      "Progress: 3000\n",
      "Progress: 4000\n",
      "Progress: 5000\n",
      "Progress: 6000\n",
      "Progress: 7000\n",
      "Progress: 8000\n",
      "Progress: 9000\n",
      "Progress: 10000\n",
      "Progress: 11000\n",
      "Progress: 12000\n",
      "Progress: 13000\n",
      "Progress: 14000\n",
      "Progress: 15000\n",
      "Progress: 16000\n",
      "Progress: 17000\n",
      "Progress: 18000\n",
      "Progress: 19000\n",
      "Progress: 20000\n",
      "Progress: 21000\n",
      "Progress: 22000\n",
      "Progress: 23000\n",
      "Progress: 24000\n",
      "Progress: 25000\n",
      "Progress: 26000\n",
      "Progress: 27000\n",
      "Progress: 28000\n",
      "Progress: 29000\n",
      "Progress: 30000\n",
      "Progress: 31000\n",
      "Progress: 32000\n",
      "Progress: 33000\n",
      "Progress: 34000\n",
      "Progress: 35000\n",
      "Progress: 36000\n",
      "Progress: 37000\n",
      "Progress: 38000\n",
      "Progress: 39000\n",
      "Progress: 40000\n",
      "Progress: 41000\n",
      "Progress: 42000\n",
      "Progress: 43000\n",
      "Progress: 44000\n",
      "Progress: 45000\n",
      "Progress: 46000\n",
      "Progress: 47000\n",
      "Progress: 48000\n",
      "Progress: 49000\n",
      "Progress: 50000\n",
      "Progress: 51000\n",
      "Progress: 52000\n",
      "Progress: 53000\n",
      "Progress: 54000\n",
      "Progress: 55000\n",
      "Progress: 56000\n",
      "Progress: 57000\n",
      "Progress: 58000\n",
      "Progress: 59000\n",
      "Progress: 60000\n",
      "Progress: 61000\n",
      "Progress: 62000\n",
      "Progress: 63000\n",
      "Progress: 64000\n",
      "Progress: 65000\n",
      "Progress: 66000\n",
      "Progress: 67000\n",
      "Progress: 68000\n",
      "Progress: 69000\n",
      "Progress: 70000\n",
      "Progress: 71000\n",
      "Progress: 72000\n",
      "Progress: 73000\n",
      "Progress: 74000\n",
      "Progress: 75000\n",
      "Progress: 76000\n",
      "Progress: 77000\n",
      "Progress: 78000\n",
      "Progress: 79000\n",
      "Progress: 80000\n",
      "Progress: 81000\n",
      "Progress: 82000\n",
      "Progress: 83000\n",
      "Progress: 84000\n",
      "Progress: 85000\n",
      "Progress: 86000\n",
      "Progress: 87000\n",
      "Progress: 88000\n",
      "Progress: 89000\n",
      "Progress: 90000\n",
      "Progress: 91000\n",
      "Progress: 92000\n",
      "Progress: 93000\n",
      "Progress: 94000\n",
      "Progress: 95000\n",
      "Progress: 96000\n",
      "Progress: 97000\n"
     ]
    }
   ],
   "source": [
    "for i, row in df_scrape.iterrows():\n",
    "    thread, page_number = extract_page(dict_list_scrape[i]['url'])\n",
    "    df_scrape.loc[i, 'thread_url'] = thread\n",
    "    df_scrape.loc[i, 'page_number'] = page_number\n",
    "    \n",
    "    if i % 1000 == 0:\n",
    "        print(\"Progress: {}\".format(i))"
   ]
  },
  {
   "cell_type": "code",
   "execution_count": 9,
   "metadata": {
    "collapsed": false
   },
   "outputs": [
    {
     "name": "stdout",
     "output_type": "stream",
     "text": [
      ".................................................................................................."
     ]
    }
   ],
   "source": [
    "posts = []\n",
    "for i, thread_page in enumerate(dict_list_scrape):\n",
    "    for post_number, post in enumerate(thread_page['posts']):\n",
    "        thread_url, page_number = extract_page(thread_page['url'])\n",
    "        post['thread_url'] = thread_url\n",
    "        post['page_number'] = page_number\n",
    "        post['post_in_thread'] = (page_number - 1)*10 + post_number + 1\n",
    "        \n",
    "        posts.append(post)\n",
    "    if i % 1000 == 0:\n",
    "        print('.', end='')"
   ]
  },
  {
   "cell_type": "code",
   "execution_count": 22,
   "metadata": {
    "collapsed": false
   },
   "outputs": [],
   "source": [
    "df_posts = pd.DataFrame(posts)"
   ]
  },
  {
   "cell_type": "code",
   "execution_count": 12,
   "metadata": {
    "collapsed": false,
    "scrolled": true
   },
   "outputs": [
    {
     "name": "stdout",
     "output_type": "stream",
     "text": [
      "(972846, 10)\n"
     ]
    },
    {
     "data": {
      "text/html": [
       "<div>\n",
       "<table border=\"1\" class=\"dataframe\">\n",
       "  <thead>\n",
       "    <tr style=\"text-align: right;\">\n",
       "      <th></th>\n",
       "      <th>author</th>\n",
       "      <th>author_join_date</th>\n",
       "      <th>author_location</th>\n",
       "      <th>author_posts</th>\n",
       "      <th>author_title</th>\n",
       "      <th>content</th>\n",
       "      <th>date</th>\n",
       "      <th>page_number</th>\n",
       "      <th>post_in_thread</th>\n",
       "      <th>thread_url</th>\n",
       "    </tr>\n",
       "  </thead>\n",
       "  <tbody>\n",
       "    <tr>\n",
       "      <th>0</th>\n",
       "      <td>salvete amici</td>\n",
       "      <td>Oct 2005</td>\n",
       "      <td>Christian, Free-market Libertarian</td>\n",
       "      <td>3,602</td>\n",
       "      <td>Forum Member</td>\n",
       "      <td>&lt;div id=\"post_message_4230580\"&gt;&amp;#13;\\n\\t\\t\\t&amp;#...</td>\n",
       "      <td>05-24-2007, 03:19 PM</td>\n",
       "      <td>1</td>\n",
       "      <td>1</td>\n",
       "      <td>https://www.stormfront.org/forum/t390760</td>\n",
       "    </tr>\n",
       "    <tr>\n",
       "      <th>1</th>\n",
       "      <td>Royal Blue</td>\n",
       "      <td>Oct 2005</td>\n",
       "      <td></td>\n",
       "      <td>1,813</td>\n",
       "      <td>Forum Member</td>\n",
       "      <td>&lt;div id=\"post_message_4230591\"&gt;&amp;#13;\\n\\t\\t\\t&amp;#...</td>\n",
       "      <td>05-24-2007, 03:27 PM</td>\n",
       "      <td>1</td>\n",
       "      <td>2</td>\n",
       "      <td>https://www.stormfront.org/forum/t390760</td>\n",
       "    </tr>\n",
       "    <tr>\n",
       "      <th>2</th>\n",
       "      <td>ArcticThunder</td>\n",
       "      <td>May 2006</td>\n",
       "      <td>U.S.A.</td>\n",
       "      <td>3,940</td>\n",
       "      <td>Account Inactive</td>\n",
       "      <td>&lt;div id=\"post_message_4230635\"&gt;&amp;#13;\\n\\t\\t\\t&amp;#...</td>\n",
       "      <td>05-24-2007, 03:52 PM</td>\n",
       "      <td>1</td>\n",
       "      <td>3</td>\n",
       "      <td>https://www.stormfront.org/forum/t390760</td>\n",
       "    </tr>\n",
       "    <tr>\n",
       "      <th>3</th>\n",
       "      <td>BeautynBrains1488</td>\n",
       "      <td>May 2007</td>\n",
       "      <td>Texico Amexica Where Wetbacks Rule</td>\n",
       "      <td>654</td>\n",
       "      <td>Forum Member</td>\n",
       "      <td>&lt;div id=\"post_message_4230666\"&gt;&amp;#13;\\n\\t\\t\\t&amp;#...</td>\n",
       "      <td>05-24-2007, 04:13 PM</td>\n",
       "      <td>1</td>\n",
       "      <td>4</td>\n",
       "      <td>https://www.stormfront.org/forum/t390760</td>\n",
       "    </tr>\n",
       "    <tr>\n",
       "      <th>4</th>\n",
       "      <td>LOKI-Nevada</td>\n",
       "      <td>Mar 2002</td>\n",
       "      <td>Fled to Utah</td>\n",
       "      <td>7,697</td>\n",
       "      <td>Account Disabled by Request</td>\n",
       "      <td>&lt;div id=\"post_message_4230668\"&gt;&amp;#13;\\n\\t\\t\\t&amp;#...</td>\n",
       "      <td>05-24-2007, 04:16 PM</td>\n",
       "      <td>1</td>\n",
       "      <td>5</td>\n",
       "      <td>https://www.stormfront.org/forum/t390760</td>\n",
       "    </tr>\n",
       "  </tbody>\n",
       "</table>\n",
       "</div>"
      ],
      "text/plain": [
       "              author author_join_date                     author_location  \\\n",
       "0      salvete amici         Oct 2005  Christian, Free-market Libertarian   \n",
       "1         Royal Blue         Oct 2005                                       \n",
       "2      ArcticThunder         May 2006                              U.S.A.   \n",
       "3  BeautynBrains1488         May 2007  Texico Amexica Where Wetbacks Rule   \n",
       "4        LOKI-Nevada         Mar 2002                        Fled to Utah   \n",
       "\n",
       "  author_posts                 author_title  \\\n",
       "0        3,602                 Forum Member   \n",
       "1        1,813                 Forum Member   \n",
       "2        3,940             Account Inactive   \n",
       "3          654                 Forum Member   \n",
       "4        7,697  Account Disabled by Request   \n",
       "\n",
       "                                             content                  date  \\\n",
       "0  <div id=\"post_message_4230580\">&#13;\\n\\t\\t\\t&#...  05-24-2007, 03:19 PM   \n",
       "1  <div id=\"post_message_4230591\">&#13;\\n\\t\\t\\t&#...  05-24-2007, 03:27 PM   \n",
       "2  <div id=\"post_message_4230635\">&#13;\\n\\t\\t\\t&#...  05-24-2007, 03:52 PM   \n",
       "3  <div id=\"post_message_4230666\">&#13;\\n\\t\\t\\t&#...  05-24-2007, 04:13 PM   \n",
       "4  <div id=\"post_message_4230668\">&#13;\\n\\t\\t\\t&#...  05-24-2007, 04:16 PM   \n",
       "\n",
       "   page_number  post_in_thread                                thread_url  \n",
       "0            1               1  https://www.stormfront.org/forum/t390760  \n",
       "1            1               2  https://www.stormfront.org/forum/t390760  \n",
       "2            1               3  https://www.stormfront.org/forum/t390760  \n",
       "3            1               4  https://www.stormfront.org/forum/t390760  \n",
       "4            1               5  https://www.stormfront.org/forum/t390760  "
      ]
     },
     "execution_count": 12,
     "metadata": {},
     "output_type": "execute_result"
    }
   ],
   "source": [
    "print(df_posts.shape)\n",
    "\n",
    "df_posts.head()"
   ]
  },
  {
   "cell_type": "code",
   "execution_count": 23,
   "metadata": {
    "collapsed": false
   },
   "outputs": [
    {
     "data": {
      "text/plain": [
       "author              972846\n",
       "author_join_date    972846\n",
       "author_location     972846\n",
       "author_posts        972846\n",
       "author_title        972846\n",
       "content             972846\n",
       "date                972846\n",
       "page_number         972846\n",
       "post_in_thread      972846\n",
       "thread_url          972846\n",
       "dtype: int64"
      ]
     },
     "execution_count": 23,
     "metadata": {},
     "output_type": "execute_result"
    }
   ],
   "source": [
    "df_posts.count()"
   ]
  },
  {
   "cell_type": "markdown",
   "metadata": {},
   "source": [
    "Yay! We've created a dataframe of posts. Save."
   ]
  },
  {
   "cell_type": "code",
   "execution_count": 59,
   "metadata": {
    "collapsed": false
   },
   "outputs": [],
   "source": [
    "df_posts.to_csv('/home/sam/far-right/stormfront/posts.csv', index=False)"
   ]
  },
  {
   "cell_type": "markdown",
   "metadata": {},
   "source": [
    "# Clean/normalize fields!\n",
    "\n",
    "### First, the easy stuff...\n",
    "\n",
    "* Remove commas from `author_posts` and make that field an integer\n",
    "* Transform `author_join_date` into a known format, like 'YYYY-MM'"
   ]
  },
  {
   "cell_type": "code",
   "execution_count": 25,
   "metadata": {
    "collapsed": false
   },
   "outputs": [
    {
     "data": {
      "text/plain": [
       "0    3602\n",
       "1    1813\n",
       "2    3940\n",
       "3     654\n",
       "4    7697\n",
       "Name: author_posts, dtype: object"
      ]
     },
     "execution_count": 25,
     "metadata": {},
     "output_type": "execute_result"
    }
   ],
   "source": [
    "df_posts['author_posts'] = df_posts.author_posts.str.replace(',' ,'')\n",
    "\n",
    "df_posts.author_posts.head()"
   ]
  },
  {
   "cell_type": "code",
   "execution_count": 26,
   "metadata": {
    "collapsed": false
   },
   "outputs": [],
   "source": [
    "import numpy as np\n",
    "df_posts.author_posts.replace('n/a', np.nan, inplace=True)"
   ]
  },
  {
   "cell_type": "code",
   "execution_count": 28,
   "metadata": {
    "collapsed": false
   },
   "outputs": [
    {
     "data": {
      "text/plain": [
       "author              972846\n",
       "author_join_date    972846\n",
       "author_location     972846\n",
       "author_posts        961380\n",
       "author_title        972846\n",
       "content             972846\n",
       "date                972846\n",
       "page_number         972846\n",
       "post_in_thread      972846\n",
       "thread_url          972846\n",
       "dtype: int64"
      ]
     },
     "execution_count": 28,
     "metadata": {},
     "output_type": "execute_result"
    }
   ],
   "source": []
  },
  {
   "cell_type": "code",
   "execution_count": 35,
   "metadata": {
    "collapsed": false
   },
   "outputs": [
    {
     "data": {
      "text/plain": [
       "Guest    11466\n",
       "Name: author_title, dtype: int64"
      ]
     },
     "execution_count": 35,
     "metadata": {},
     "output_type": "execute_result"
    }
   ],
   "source": [
    "df_posts[pd.to_numeric(df_posts.author_posts).isnull()].author_title.value_counts()"
   ]
  },
  {
   "cell_type": "code",
   "execution_count": 36,
   "metadata": {
    "collapsed": true
   },
   "outputs": [],
   "source": [
    "df_posts['author_posts'] = pd.to_numeric(df_posts.author_posts)"
   ]
  },
  {
   "cell_type": "code",
   "execution_count": 37,
   "metadata": {
    "collapsed": false
   },
   "outputs": [
    {
     "data": {
      "text/plain": [
       "(datetime.datetime(2004, 6, 4, 0, 0), None)"
      ]
     },
     "execution_count": 37,
     "metadata": {},
     "output_type": "execute_result"
    }
   ],
   "source": [
    "from dateutil import parser\n",
    "\n",
    "def parse_date(date_string):\n",
    "    if date_string:\n",
    "        parsed = parser.parse(date_string)\n",
    "        return parsed\n",
    "        \n",
    "parse_date('Jun 2004'), parse_date('')"
   ]
  },
  {
   "cell_type": "code",
   "execution_count": 41,
   "metadata": {
    "collapsed": true
   },
   "outputs": [],
   "source": [
    "df_posts['author_join_date'] = df_posts['author_join_date'].apply(parse_date)"
   ]
  },
  {
   "cell_type": "markdown",
   "metadata": {},
   "source": [
    "### Slightly tricker\n",
    "\n",
    "* The `date` field somtimes contains \"Yesterday, [time of day]\", or \"Today, [time of day]\". Correlate that post with its entry in the `df_threads` Dataframe to get the exact scrape time."
   ]
  },
  {
   "cell_type": "code",
   "execution_count": 115,
   "metadata": {
    "collapsed": false
   },
   "outputs": [
    {
     "data": {
      "text/html": [
       "<div>\n",
       "<table border=\"1\" class=\"dataframe\">\n",
       "  <thead>\n",
       "    <tr style=\"text-align: right;\">\n",
       "      <th></th>\n",
       "      <th>author</th>\n",
       "      <th>author_join_date</th>\n",
       "      <th>author_location</th>\n",
       "      <th>author_posts</th>\n",
       "      <th>author_title</th>\n",
       "      <th>content</th>\n",
       "      <th>date</th>\n",
       "      <th>page_number</th>\n",
       "      <th>post_in_thread</th>\n",
       "      <th>thread_url</th>\n",
       "    </tr>\n",
       "  </thead>\n",
       "  <tbody>\n",
       "    <tr>\n",
       "      <th>80</th>\n",
       "      <td>Pagonis</td>\n",
       "      <td>2016-05-22</td>\n",
       "      <td></td>\n",
       "      <td>133.0</td>\n",
       "      <td>Forum Member</td>\n",
       "      <td>&lt;div id=\"post_message_13839855\"&gt;&amp;#13;\\n\\t\\t\\t&amp;...</td>\n",
       "      <td>Yesterday, 01:16 PM</td>\n",
       "      <td>1</td>\n",
       "      <td>1</td>\n",
       "      <td>https://www.stormfront.org/forum/t1191985</td>\n",
       "    </tr>\n",
       "    <tr>\n",
       "      <th>81</th>\n",
       "      <td>WhiteNationalist</td>\n",
       "      <td>2012-11-22</td>\n",
       "      <td>The United Banana Republic</td>\n",
       "      <td>19938.0</td>\n",
       "      <td>under the Black Sun</td>\n",
       "      <td>&lt;div id=\"post_message_13839887\"&gt;&amp;#13;\\n\\t\\t\\t&amp;...</td>\n",
       "      <td>Yesterday, 01:38 PM</td>\n",
       "      <td>1</td>\n",
       "      <td>2</td>\n",
       "      <td>https://www.stormfront.org/forum/t1191985</td>\n",
       "    </tr>\n",
       "    <tr>\n",
       "      <th>82</th>\n",
       "      <td>OLYMPUS</td>\n",
       "      <td>2014-08-22</td>\n",
       "      <td>Greece</td>\n",
       "      <td>13726.0</td>\n",
       "      <td>\"Friend of Stormfront\"Sustaining Member</td>\n",
       "      <td>&lt;div id=\"post_message_13840103\"&gt;&amp;#13;\\n\\t\\t\\t&amp;...</td>\n",
       "      <td>Yesterday, 04:12 PM</td>\n",
       "      <td>1</td>\n",
       "      <td>3</td>\n",
       "      <td>https://www.stormfront.org/forum/t1191985</td>\n",
       "    </tr>\n",
       "    <tr>\n",
       "      <th>83</th>\n",
       "      <td>Pagonis</td>\n",
       "      <td>2016-05-22</td>\n",
       "      <td></td>\n",
       "      <td>133.0</td>\n",
       "      <td>Forum Member</td>\n",
       "      <td>&lt;div id=\"post_message_13840143\"&gt;&amp;#13;\\n\\t\\t\\t&amp;...</td>\n",
       "      <td>Yesterday, 04:33 PM</td>\n",
       "      <td>1</td>\n",
       "      <td>4</td>\n",
       "      <td>https://www.stormfront.org/forum/t1191985</td>\n",
       "    </tr>\n",
       "    <tr>\n",
       "      <th>84</th>\n",
       "      <td>OLYMPUS</td>\n",
       "      <td>2014-08-22</td>\n",
       "      <td>Greece</td>\n",
       "      <td>13726.0</td>\n",
       "      <td>\"Friend of Stormfront\"Sustaining Member</td>\n",
       "      <td>&lt;div id=\"post_message_13840150\"&gt;&amp;#13;\\n\\t\\t\\t&amp;...</td>\n",
       "      <td>Yesterday, 04:36 PM</td>\n",
       "      <td>1</td>\n",
       "      <td>5</td>\n",
       "      <td>https://www.stormfront.org/forum/t1191985</td>\n",
       "    </tr>\n",
       "  </tbody>\n",
       "</table>\n",
       "</div>"
      ],
      "text/plain": [
       "              author author_join_date             author_location  \\\n",
       "80           Pagonis       2016-05-22                               \n",
       "81  WhiteNationalist       2012-11-22  The United Banana Republic   \n",
       "82           OLYMPUS       2014-08-22                      Greece   \n",
       "83           Pagonis       2016-05-22                               \n",
       "84           OLYMPUS       2014-08-22                      Greece   \n",
       "\n",
       "    author_posts                             author_title  \\\n",
       "80         133.0                             Forum Member   \n",
       "81       19938.0                      under the Black Sun   \n",
       "82       13726.0  \"Friend of Stormfront\"Sustaining Member   \n",
       "83         133.0                             Forum Member   \n",
       "84       13726.0  \"Friend of Stormfront\"Sustaining Member   \n",
       "\n",
       "                                              content                 date  \\\n",
       "80  <div id=\"post_message_13839855\">&#13;\\n\\t\\t\\t&...  Yesterday, 01:16 PM   \n",
       "81  <div id=\"post_message_13839887\">&#13;\\n\\t\\t\\t&...  Yesterday, 01:38 PM   \n",
       "82  <div id=\"post_message_13840103\">&#13;\\n\\t\\t\\t&...  Yesterday, 04:12 PM   \n",
       "83  <div id=\"post_message_13840143\">&#13;\\n\\t\\t\\t&...  Yesterday, 04:33 PM   \n",
       "84  <div id=\"post_message_13840150\">&#13;\\n\\t\\t\\t&...  Yesterday, 04:36 PM   \n",
       "\n",
       "    page_number  post_in_thread                                 thread_url  \n",
       "80            1               1  https://www.stormfront.org/forum/t1191985  \n",
       "81            1               2  https://www.stormfront.org/forum/t1191985  \n",
       "82            1               3  https://www.stormfront.org/forum/t1191985  \n",
       "83            1               4  https://www.stormfront.org/forum/t1191985  \n",
       "84            1               5  https://www.stormfront.org/forum/t1191985  "
      ]
     },
     "execution_count": 115,
     "metadata": {},
     "output_type": "execute_result"
    }
   ],
   "source": [
    "df_posts[df_posts.date.str.startswith('Yesterday')].head()"
   ]
  },
  {
   "cell_type": "code",
   "execution_count": 42,
   "metadata": {
    "collapsed": false
   },
   "outputs": [
    {
     "name": "stdout",
     "output_type": "stream",
     "text": [
      "2007-05-24 15:19:00\n",
      "2016-12-20 09:28:00\n",
      "2016-12-19 13:16:00\n"
     ]
    }
   ],
   "source": [
    "import datetime\n",
    "\n",
    "def parse_date_sometimes_relative(date_string, thread_url, page_number):\n",
    "    try:\n",
    "        return parser.parse(date_string)\n",
    "    except TypeError:\n",
    "        scrape_date = datetime.datetime.fromtimestamp(df_scrape[(df_scrape.thread_url == thread_url) & (df_scrape.page_number == page_number)].updatetime.iloc[0])\n",
    "        day, time_of_day_string = date_string.split(',')\n",
    "        time_of_day = parser.parse(time_of_day_string)\n",
    "        if day.startswith('Today'):\n",
    "            return datetime.datetime(scrape_date.year, scrape_date.month, scrape_date.day,\n",
    "                                     time_of_day.hour, time_of_day.minute, time_of_day.second)\n",
    "        \n",
    "        if day.startswith('Yesterday'):\n",
    "            return datetime.datetime(scrape_date.year, scrape_date.month, scrape_date.day - 1,\n",
    "                         time_of_day.hour, time_of_day.minute, time_of_day.second)\n",
    "print(parse_date_sometimes_relative('05-24-2007, 03:19 PM', None, None))\n",
    "\n",
    "# Scraped on December 20th\n",
    "print(parse_date_sometimes_relative('Today, 09:28 AM', 'https://www.stormfront.org/forum/t1191985', 1))\n",
    "print(parse_date_sometimes_relative('Yesterday, 01:16 PM', 'https://www.stormfront.org/forum/t1191985', 1))"
   ]
  },
  {
   "cell_type": "code",
   "execution_count": null,
   "metadata": {
    "collapsed": false
   },
   "outputs": [
    {
     "name": "stdout",
     "output_type": "stream",
     "text": [
      ".........................................................................................................................................................................................................................................................................................................................................................................................................................................................................................................................................................................................................................................................................................................................................................................................................................................................................................................................................................................................................."
     ]
    }
   ],
   "source": [
    "for i, row in df_posts.iterrows():\n",
    "    if i % 1000 == 0:\n",
    "        print('.', end='')\n",
    "    df_posts.loc[i, 'post_date'] = parse_date_sometimes_relative(row['date'], row['thread_url'], row['page_number'])"
   ]
  },
  {
   "cell_type": "code",
   "execution_count": 45,
   "metadata": {
    "collapsed": false
   },
   "outputs": [
    {
     "data": {
      "text/plain": [
       "author              972846\n",
       "author_join_date    961380\n",
       "author_location     972846\n",
       "author_posts        961380\n",
       "author_title        972846\n",
       "content             972846\n",
       "date                972846\n",
       "page_number         972846\n",
       "post_in_thread      972846\n",
       "thread_url          972846\n",
       "post_date           972846\n",
       "dtype: int64"
      ]
     },
     "execution_count": 45,
     "metadata": {},
     "output_type": "execute_result"
    }
   ],
   "source": [
    "df_posts.count()"
   ]
  },
  {
   "cell_type": "code",
   "execution_count": 46,
   "metadata": {
    "collapsed": false
   },
   "outputs": [],
   "source": [
    "df_posts.drop(['date', 'page_number'], axis=1).to_csv('/home/sam/data/stormfront/posts.csv', index=False)"
   ]
  },
  {
   "cell_type": "code",
   "execution_count": 47,
   "metadata": {
    "collapsed": false
   },
   "outputs": [],
   "source": [
    "df_posts.drop('date', axis=1, inplace=True)"
   ]
  },
  {
   "cell_type": "markdown",
   "metadata": {},
   "source": [
    "# Extract states from `author_location` :)\n",
    "\n",
    "* Tokenize the author_location field\n",
    "* If any given token matches either the full name of a state, or the abbreviation for a state, then mark that entry as belonging to that state.\n",
    "* Circle back on any record with multiple entries."
   ]
  },
  {
   "cell_type": "code",
   "execution_count": 139,
   "metadata": {
    "collapsed": true
   },
   "outputs": [],
   "source": [
    "import requests\n",
    "\n",
    "r = requests.get('http://www.fonz.net/blog/wp-content/uploads/2008/04/states.csv')"
   ]
  },
  {
   "cell_type": "code",
   "execution_count": 218,
   "metadata": {
    "collapsed": false
   },
   "outputs": [],
   "source": [
    "states = set()\n",
    "state_abbreviations = set()\n",
    "abbrevs_to_states = dict()\n",
    "\n",
    "for line in r.text.split('\\n')[1:-1]:\n",
    "    state, abbrev = line.split(',')\n",
    "    state = state.strip('\"')\n",
    "    abbrev = abbrev.strip('\"')\n",
    "    \n",
    "    states.add(state.lower())\n",
    "    state_abbreviations.add(abbrev.upper())\n",
    "    if (abbrev.upper() != 'OR' and abbrev.upper() != 'IN'):\n",
    "        state_abbreviations.add(abbrev.lower())\n",
    "        state_abbreviations.add(abbrev.capitalize())\n",
    "        \n",
    "    abbrevs_to_states[abbrev.upper()] = state.lower()"
   ]
  },
  {
   "cell_type": "code",
   "execution_count": 159,
   "metadata": {
    "collapsed": false
   },
   "outputs": [
    {
     "data": {
      "text/html": [
       "<div>\n",
       "<table border=\"1\" class=\"dataframe\">\n",
       "  <thead>\n",
       "    <tr style=\"text-align: right;\">\n",
       "      <th></th>\n",
       "      <th>author</th>\n",
       "      <th>author_join_date</th>\n",
       "      <th>author_location</th>\n",
       "      <th>author_posts</th>\n",
       "      <th>author_title</th>\n",
       "    </tr>\n",
       "  </thead>\n",
       "  <tbody>\n",
       "    <tr>\n",
       "      <th>0</th>\n",
       "      <td>**JT**</td>\n",
       "      <td>2001-09-22</td>\n",
       "      <td>Western Washington</td>\n",
       "      <td>726.0</td>\n",
       "      <td>Forum Member</td>\n",
       "    </tr>\n",
       "    <tr>\n",
       "      <th>1</th>\n",
       "      <td>*Hither_Shore*</td>\n",
       "      <td>2004-09-22</td>\n",
       "      <td></td>\n",
       "      <td>452.0</td>\n",
       "      <td>Forum Member</td>\n",
       "    </tr>\n",
       "    <tr>\n",
       "      <th>2</th>\n",
       "      <td>*turtle_88*</td>\n",
       "      <td>2008-01-22</td>\n",
       "      <td></td>\n",
       "      <td>74.0</td>\n",
       "      <td>Account Inactive</td>\n",
       "    </tr>\n",
       "    <tr>\n",
       "      <th>3</th>\n",
       "      <td>+213Theodoric+</td>\n",
       "      <td>2004-04-22</td>\n",
       "      <td>Thunderbolt, Colonial Georgia, Norð Amerika</td>\n",
       "      <td>49.0</td>\n",
       "      <td>Forum Member</td>\n",
       "    </tr>\n",
       "    <tr>\n",
       "      <th>4</th>\n",
       "      <td>+dezelman+</td>\n",
       "      <td>2006-06-22</td>\n",
       "      <td></td>\n",
       "      <td>52.0</td>\n",
       "      <td>Forum Member</td>\n",
       "    </tr>\n",
       "  </tbody>\n",
       "</table>\n",
       "</div>"
      ],
      "text/plain": [
       "           author author_join_date  \\\n",
       "0          **JT**       2001-09-22   \n",
       "1  *Hither_Shore*       2004-09-22   \n",
       "2     *turtle_88*       2008-01-22   \n",
       "3  +213Theodoric+       2004-04-22   \n",
       "4      +dezelman+       2006-06-22   \n",
       "\n",
       "                               author_location  author_posts      author_title  \n",
       "0                           Western Washington         726.0      Forum Member  \n",
       "1                                                      452.0      Forum Member  \n",
       "2                                                       74.0  Account Inactive  \n",
       "3  Thunderbolt, Colonial Georgia, Norð Amerika          49.0      Forum Member  \n",
       "4                                                       52.0      Forum Member  "
      ]
     },
     "execution_count": 159,
     "metadata": {},
     "output_type": "execute_result"
    }
   ],
   "source": [
    "df_authors = df_posts.groupby('author')['author_join_date', 'author_location', 'author_posts', 'author_title'].max().reset_index()\n",
    "\n",
    "df_authors.head()"
   ]
  },
  {
   "cell_type": "code",
   "execution_count": 167,
   "metadata": {
    "collapsed": false
   },
   "outputs": [],
   "source": [
    "import nltk\n",
    "from nltk.tokenize import TweetTokenizer\n",
    "\n",
    "tokenizer = TweetTokenizer()"
   ]
  },
  {
   "cell_type": "code",
   "execution_count": 169,
   "metadata": {
    "collapsed": false
   },
   "outputs": [],
   "source": [
    "locations = list(df_authors.author_location.unique())"
   ]
  },
  {
   "cell_type": "code",
   "execution_count": 220,
   "metadata": {
    "collapsed": false
   },
   "outputs": [
    {
     "name": "stdout",
     "output_type": "stream",
     "text": [
      "None\n",
      "oregon\n",
      "arkansas\n",
      "florida\n",
      "alaska\n"
     ]
    }
   ],
   "source": [
    "def token_is_state(t):\n",
    "    if t.lower() in states:\n",
    "        return t.lower()\n",
    "    if t in state_abbreviations:\n",
    "        return abbrevs_to_states[t.upper()]\n",
    "    \n",
    "print(token_is_state('or'))\n",
    "print(token_is_state('OR'))\n",
    "print(token_is_state('ar'))\n",
    "print(token_is_state('Fl'))\n",
    "print(token_is_state('Alaska'))"
   ]
  },
  {
   "cell_type": "code",
   "execution_count": 221,
   "metadata": {
    "collapsed": false,
    "scrolled": true
   },
   "outputs": [],
   "source": [
    "from collections import defaultdict\n",
    "locations_to_states = defaultdict(list)\n",
    "\n",
    "for location in locations:\n",
    "    tokens = [x for x in tokenizer.tokenize(location.replace('.', ''))]\n",
    "    for i, t in enumerate(tokens):\n",
    "        \n",
    "        # Northeast, not Nebraska\n",
    "        try:\n",
    "            if t == 'NE' and token_is_state(tokens[i+1]):\n",
    "                continue \n",
    "        except IndexError:\n",
    "            pass\n",
    "        \n",
    "        state = token_is_state(t)\n",
    "        if state:\n",
    "            locations_to_states[location].append(state)\n",
    "\n",
    "    if 'district of columbia' in locations_to_states[location] and 'washington' in locations_to_states[location]:\n",
    "        locations_to_states[location].remove('washington')\n",
    "    \n",
    "    if 'california' in locations_to_states[location] and 'louisiana' in locations_to_states[location]:\n",
    "        locations_to_states[location].remove('louisiana')\n",
    "    \n",
    "    if locations_to_states[location]:\n",
    "        locations_to_states[location] = locations_to_states[location][0]"
   ]
  },
  {
   "cell_type": "code",
   "execution_count": 222,
   "metadata": {
    "collapsed": false
   },
   "outputs": [],
   "source": [
    "loc_dict = {x: y or None for x, y in locations_to_states.items()}"
   ]
  },
  {
   "cell_type": "code",
   "execution_count": 223,
   "metadata": {
    "collapsed": false
   },
   "outputs": [],
   "source": [
    "df_authors['primary_state'] = df_authors.author_location.apply(loc_dict.get)"
   ]
  },
  {
   "cell_type": "code",
   "execution_count": 226,
   "metadata": {
    "collapsed": false
   },
   "outputs": [
    {
     "data": {
      "text/html": [
       "<div>\n",
       "<table border=\"1\" class=\"dataframe\">\n",
       "  <thead>\n",
       "    <tr style=\"text-align: right;\">\n",
       "      <th></th>\n",
       "      <th>author</th>\n",
       "      <th>author_join_date</th>\n",
       "      <th>author_location</th>\n",
       "      <th>author_posts</th>\n",
       "      <th>author_title</th>\n",
       "      <th>primary_state</th>\n",
       "    </tr>\n",
       "  </thead>\n",
       "  <tbody>\n",
       "    <tr>\n",
       "      <th>15443</th>\n",
       "      <td>Иисус Христос</td>\n",
       "      <td>2006-09-22</td>\n",
       "      <td></td>\n",
       "      <td>95.0</td>\n",
       "      <td>Account Inactive</td>\n",
       "      <td>None</td>\n",
       "    </tr>\n",
       "    <tr>\n",
       "      <th>15444</th>\n",
       "      <td>МΔLΙCΕ СΘDΕ</td>\n",
       "      <td>2007-09-22</td>\n",
       "      <td>Virginia</td>\n",
       "      <td>25.0</td>\n",
       "      <td>Forum Member</td>\n",
       "      <td>virginia</td>\n",
       "    </tr>\n",
       "    <tr>\n",
       "      <th>15445</th>\n",
       "      <td>Наследие</td>\n",
       "      <td>2007-10-22</td>\n",
       "      <td></td>\n",
       "      <td>1473.0</td>\n",
       "      <td>Account Inactive</td>\n",
       "      <td>None</td>\n",
       "    </tr>\n",
       "    <tr>\n",
       "      <th>15446</th>\n",
       "      <td>Уберменшен</td>\n",
       "      <td>2007-03-22</td>\n",
       "      <td>Русь</td>\n",
       "      <td>219.0</td>\n",
       "      <td>Forum Member</td>\n",
       "      <td>None</td>\n",
       "    </tr>\n",
       "    <tr>\n",
       "      <th>15447</th>\n",
       "      <td>Шhіte Đ≡vіl</td>\n",
       "      <td>2006-09-22</td>\n",
       "      <td>S.C</td>\n",
       "      <td>129.0</td>\n",
       "      <td>Forum Member</td>\n",
       "      <td>south carolina</td>\n",
       "    </tr>\n",
       "  </tbody>\n",
       "</table>\n",
       "</div>"
      ],
      "text/plain": [
       "              author author_join_date author_location  author_posts  \\\n",
       "15443  Иисус Христос       2006-09-22                          95.0   \n",
       "15444    МΔLΙCΕ СΘDΕ       2007-09-22        Virginia          25.0   \n",
       "15445       Наследие       2007-10-22                        1473.0   \n",
       "15446     Уберменшен       2007-03-22            Русь         219.0   \n",
       "15447    Шhіte Đ≡vіl       2006-09-22             S.C         129.0   \n",
       "\n",
       "           author_title   primary_state  \n",
       "15443  Account Inactive            None  \n",
       "15444      Forum Member        virginia  \n",
       "15445  Account Inactive            None  \n",
       "15446      Forum Member            None  \n",
       "15447      Forum Member  south carolina  "
      ]
     },
     "execution_count": 226,
     "metadata": {},
     "output_type": "execute_result"
    }
   ],
   "source": [
    "df_authors.tail()"
   ]
  },
  {
   "cell_type": "code",
   "execution_count": 227,
   "metadata": {
    "collapsed": true
   },
   "outputs": [],
   "source": [
    "df_authors.to_csv('/home/sam/far-right/stormfront/authors.csv', index=False)"
   ]
  },
  {
   "cell_type": "markdown",
   "metadata": {},
   "source": [
    "# Create thread table that has thread title"
   ]
  },
  {
   "cell_type": "code",
   "execution_count": 232,
   "metadata": {
    "collapsed": false
   },
   "outputs": [
    {
     "name": "stdout",
     "output_type": "stream",
     "text": [
      "Trump wins White women by a landslide!\n",
      "Lamentations of Michelle Obama\n"
     ]
    }
   ],
   "source": [
    "def extract_title(title_string):\n",
    "    return title_string.partition(' - Page ')[0].partition(' - Stormfront')[0]\n",
    "\n",
    "print(extract_title('Trump wins White women by a landslide! - Page 12 - Stormfront'))\n",
    "print(extract_title('Lamentations of Michelle Obama - Stormfront'))"
   ]
  },
  {
   "cell_type": "code",
   "execution_count": 236,
   "metadata": {
    "collapsed": false,
    "scrolled": true
   },
   "outputs": [
    {
     "name": "stdout",
     "output_type": "stream",
     "text": [
      ".................................................................................................."
     ]
    }
   ],
   "source": [
    "for i, row in df_scrape.iterrows():\n",
    "    title = extract_title(dict_list_scrape[i]['title'])\n",
    "    df_scrape.loc[i, 'title'] = title\n",
    "    if i % 1000 == 0:\n",
    "        print('.', end='')"
   ]
  },
  {
   "cell_type": "code",
   "execution_count": 237,
   "metadata": {
    "collapsed": false
   },
   "outputs": [
    {
     "data": {
      "text/html": [
       "<div>\n",
       "<table border=\"1\" class=\"dataframe\">\n",
       "  <thead>\n",
       "    <tr style=\"text-align: right;\">\n",
       "      <th></th>\n",
       "      <th>taskid</th>\n",
       "      <th>url</th>\n",
       "      <th>result</th>\n",
       "      <th>updatetime</th>\n",
       "      <th>thread_url</th>\n",
       "      <th>page_number</th>\n",
       "      <th>title</th>\n",
       "    </tr>\n",
       "  </thead>\n",
       "  <tbody>\n",
       "    <tr>\n",
       "      <th>0</th>\n",
       "      <td>5c40eb08be70f35854ffafb8664ccc32</td>\n",
       "      <td>https://www.stormfront.org/forum/t390760</td>\n",
       "      <td>{\"url\": \"https://www.stormfront.org/forum/t390...</td>\n",
       "      <td>1.482262e+09</td>\n",
       "      <td>https://www.stormfront.org/forum/t390760</td>\n",
       "      <td>1.0</td>\n",
       "      <td>Cat-Sized African Rats Plague Florida</td>\n",
       "    </tr>\n",
       "    <tr>\n",
       "      <th>1</th>\n",
       "      <td>6fccf8f76446722cbd9b960788d7907f</td>\n",
       "      <td>https://www.stormfront.org/forum/t543403</td>\n",
       "      <td>{\"url\": \"https://www.stormfront.org/forum/t543...</td>\n",
       "      <td>1.482262e+09</td>\n",
       "      <td>https://www.stormfront.org/forum/t543403</td>\n",
       "      <td>1.0</td>\n",
       "      <td>EXPERT predicts food riots, tent cities, tax r...</td>\n",
       "    </tr>\n",
       "    <tr>\n",
       "      <th>2</th>\n",
       "      <td>125c26b84f5042c68d84218ddbdf8114</td>\n",
       "      <td>https://www.stormfront.org/forum/t1176587</td>\n",
       "      <td>{\"url\": \"https://www.stormfront.org/forum/t117...</td>\n",
       "      <td>1.482262e+09</td>\n",
       "      <td>https://www.stormfront.org/forum/t1176587</td>\n",
       "      <td>1.0</td>\n",
       "      <td>China About To Trigger \"The Super Crash\"</td>\n",
       "    </tr>\n",
       "    <tr>\n",
       "      <th>3</th>\n",
       "      <td>332b1f09517e3d141ef100b0d94b9c47</td>\n",
       "      <td>https://www.stormfront.org/forum/t1186708</td>\n",
       "      <td>{\"url\": \"https://www.stormfront.org/forum/t118...</td>\n",
       "      <td>1.482262e+09</td>\n",
       "      <td>https://www.stormfront.org/forum/t1186708</td>\n",
       "      <td>1.0</td>\n",
       "      <td>People magazine names Dwayne Johnson as the se...</td>\n",
       "    </tr>\n",
       "    <tr>\n",
       "      <th>4</th>\n",
       "      <td>56a7a39456d9f4b837f3b81473f101f4</td>\n",
       "      <td>https://www.stormfront.org/forum/t1190477</td>\n",
       "      <td>{\"url\": \"https://www.stormfront.org/forum/t119...</td>\n",
       "      <td>1.482262e+09</td>\n",
       "      <td>https://www.stormfront.org/forum/t1190477</td>\n",
       "      <td>1.0</td>\n",
       "      <td>Special snowflakes in Massachusetts</td>\n",
       "    </tr>\n",
       "  </tbody>\n",
       "</table>\n",
       "</div>"
      ],
      "text/plain": [
       "                             taskid  \\\n",
       "0  5c40eb08be70f35854ffafb8664ccc32   \n",
       "1  6fccf8f76446722cbd9b960788d7907f   \n",
       "2  125c26b84f5042c68d84218ddbdf8114   \n",
       "3  332b1f09517e3d141ef100b0d94b9c47   \n",
       "4  56a7a39456d9f4b837f3b81473f101f4   \n",
       "\n",
       "                                         url  \\\n",
       "0   https://www.stormfront.org/forum/t390760   \n",
       "1   https://www.stormfront.org/forum/t543403   \n",
       "2  https://www.stormfront.org/forum/t1176587   \n",
       "3  https://www.stormfront.org/forum/t1186708   \n",
       "4  https://www.stormfront.org/forum/t1190477   \n",
       "\n",
       "                                              result    updatetime  \\\n",
       "0  {\"url\": \"https://www.stormfront.org/forum/t390...  1.482262e+09   \n",
       "1  {\"url\": \"https://www.stormfront.org/forum/t543...  1.482262e+09   \n",
       "2  {\"url\": \"https://www.stormfront.org/forum/t117...  1.482262e+09   \n",
       "3  {\"url\": \"https://www.stormfront.org/forum/t118...  1.482262e+09   \n",
       "4  {\"url\": \"https://www.stormfront.org/forum/t119...  1.482262e+09   \n",
       "\n",
       "                                  thread_url  page_number  \\\n",
       "0   https://www.stormfront.org/forum/t390760          1.0   \n",
       "1   https://www.stormfront.org/forum/t543403          1.0   \n",
       "2  https://www.stormfront.org/forum/t1176587          1.0   \n",
       "3  https://www.stormfront.org/forum/t1186708          1.0   \n",
       "4  https://www.stormfront.org/forum/t1190477          1.0   \n",
       "\n",
       "                                               title  \n",
       "0              Cat-Sized African Rats Plague Florida  \n",
       "1  EXPERT predicts food riots, tent cities, tax r...  \n",
       "2           China About To Trigger \"The Super Crash\"  \n",
       "3  People magazine names Dwayne Johnson as the se...  \n",
       "4                Special snowflakes in Massachusetts  "
      ]
     },
     "execution_count": 237,
     "metadata": {},
     "output_type": "execute_result"
    }
   ],
   "source": [
    "df_scrape.head()"
   ]
  },
  {
   "cell_type": "code",
   "execution_count": 239,
   "metadata": {
    "collapsed": false
   },
   "outputs": [],
   "source": [
    "df_scrape.groupby('thread_url').title.first().reset_index().to_csv('/home/sam/far-right/stormfront/thread-titles.csv', index=False)"
   ]
  }
 ],
 "metadata": {
  "kernelspec": {
   "display_name": "Python 3",
   "language": "python",
   "name": "python3"
  },
  "language_info": {
   "codemirror_mode": {
    "name": "ipython",
    "version": 3
   },
   "file_extension": ".py",
   "mimetype": "text/x-python",
   "name": "python",
   "nbconvert_exporter": "python",
   "pygments_lexer": "ipython3",
   "version": "3.5.2"
  }
 },
 "nbformat": 4,
 "nbformat_minor": 2
}
